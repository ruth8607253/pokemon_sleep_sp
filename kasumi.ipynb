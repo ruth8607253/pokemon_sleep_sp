{
 "cells": [
  {
   "cell_type": "markdown",
   "metadata": {},
   "source": [
    "# 小霞：sp計算方式\n",
    "\n",
    "## 假設\n",
    "\n",
    "寶可夢在同一個狀態下(不進化、進化1次、進化2次)，sp的function是一樣的。\n",
    "\n",
    "## 模型\n",
    "\n",
    "未進化前，抓5對同種、但不同等級的寶可夢(共10隻)，算sp的公式 -> 套用到新的5對同種、但不同等級的寶可夢(共10隻)，看Loss值多少。"
   ]
  },
  {
   "cell_type": "code",
   "execution_count": 27,
   "metadata": {},
   "outputs": [],
   "source": [
    "import numpy as np\n",
    "import matplotlib.pyplot as plt\n",
    "from sklearn.linear_model import LinearRegression\n",
    "import sqlite3"
   ]
  },
  {
   "cell_type": "code",
   "execution_count": null,
   "metadata": {},
   "outputs": [],
   "source": [
    "class same_pokemon():\n",
    "    def __init__(self,**kwargs):\n",
    "        super.__init__(**kwargs)\n",
    "        self.conn=sqlite3.connect(\"pokemon_database.db\")\n",
    "    \n",
    "    def get_data(self,*args):\n",
    "        id=self.pokemon"
   ]
  }
 ],
 "metadata": {
  "kernelspec": {
   "display_name": ".venv",
   "language": "python",
   "name": "python3"
  },
  "language_info": {
   "name": "python",
   "version": "3.10.8"
  },
  "orig_nbformat": 4
 },
 "nbformat": 4,
 "nbformat_minor": 2
}
