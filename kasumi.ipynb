{
 "cells": [
  {
   "cell_type": "markdown",
   "metadata": {},
   "source": [
    "# 小霞：sp計算方式\n",
    "\n",
    "## 假設\n",
    "\n",
    "寶可夢在同一個狀態下(不進化、進化1次、進化2次)，sp的function是一樣的。\n",
    "\n",
    "## 模型\n",
    "\n",
    "未進化前，抓5對同種、但不同等級的寶可夢(共10隻)，算sp的公式 -> 套用到新的5對同種、但不同等級的寶可夢(共10隻)，看Loss值多少。"
   ]
  },
  {
   "cell_type": "code",
   "execution_count": 31,
   "metadata": {},
   "outputs": [],
   "source": [
    "import numpy as np\n",
    "import matplotlib.pyplot as plt\n",
    "from sklearn.linear_model import LinearRegression\n",
    "import sqlite3\n",
    "import pandas as pd"
   ]
  },
  {
   "cell_type": "code",
   "execution_count": null,
   "metadata": {},
   "outputs": [],
   "source": [
    "name,sp,level,help_fruit,num,help_ingredient_num_1,help_ingredient_num_2,help_ingredient_num_2,help_time,help_max,skill_main_level"
   ]
  },
  {
   "cell_type": "code",
   "execution_count": 3,
   "metadata": {},
   "outputs": [
    {
     "name": "stdout",
     "output_type": "stream",
     "text": [
      "name: ['妙蛙種子' '妙蛙種子' '小火龍' '小火龍' '小火龍' '小火龍' '傑尼龜' '卡咪龜' '綠毛蟲' '鐵甲蛹' '鐵甲蛹' '巴大蝶'\n",
      " '小拉達' '小拉達' '拉達' '阿柏蛇' '阿柏蛇' '阿柏蛇' '阿柏蛇' '皮卡丘' '皮卡丘' '雷丘' '胖丁' '地鼠' '地鼠'\n",
      " '喵喵' '貓老大' '可達鴨' '猴怪' '猴怪' '卡蒂狗' '風速狗' '喇叭芽' '小拳石' '小拳石' '小拳石' '小拳石'\n",
      " '呆呆獸' '呆殼獸' '小磁怪' '嘟嘟' '嘟嘟利' '鬼斯' '鬼斯' '鬼斯通' '鬼斯通' '卡拉卡拉' '嘎啦嘎啦' '伊布'\n",
      " '伊布' '菊草葉' '小鉅鱷' '皮丘' '皮丘' '寶寶丁' '寶寶丁' '寶寶丁' '波克比' '波克比' '波客基古' '茸茸羊'\n",
      " '樹才怪' '戴魯比' '戴魯比' '戴魯比' '幼基拉斯' '幼基拉斯' '沙基拉斯' '懶人獺' '懶人獺' '溶食獸' '清綿鳥'\n",
      " '怨影娃娃' '怨影娃娃' '小果然' '海豹球' '海豹球' '盆才怪' '盆才怪' '盆才怪' '魔尼尼' '利歐路' '利歐路' '不良蛙'\n",
      " '不良蛙']\n",
      "sp: [ 388  460  409  409  421  404  364  690  308  519  451  872  317  335\n",
      "  611  459  346  445  452  654  565  849  732  359  345  332  627  369\n",
      "  383  444  411 1088  379  442  332  351  330  352  649  381  358  779\n",
      "  388  399  606  571  497  680  466  475  536  558  318  344  279  307\n",
      "  387  291  321  693  487  591  390  411  390  356  446  613  322  386\n",
      "  371  415  394  401  408  332  366  324  300   10  375  313  363  313\n",
      "  434]\n",
      "level: [ 5 10  7  7  8  8  4 13  4 11 10 12  7 10 17 17  7 15 16 12 11 14 11 12\n",
      "  9  6 14 13 10 10  5 19 12 13  8  8  8  5 17  8 10 21  9 10 14 13 14 16\n",
      "  7  9 12 14  7  9  7  8 11  3  7 12 12 19  8  8  8  5 11 13  6 12 12 13\n",
      "  7  7 10  5  9  8  8 10  6  7 12  7 13]\n",
      "help_fruit_num: [1 1 1 1 1 1 1 1 2 2 2 3 2 2 2 2 2 2 2 2 2 2 1 1 1 1 1 1 2 2 1 1 1 2 1 1 1\n",
      " 1 1 1 2 2 1 1 1 1 2 2 1 1 2 2 2 2 1 1 1 1 1 1 1 1 2 2 2 1 1 1 2 2 1 2 2 2\n",
      " 1 2 2 1 1 1 1 1 1 1 1]\n",
      "help_ingredient_num_1: [2 2 2 2 2 2 2 2 1 1 1 1 1 1 1 1 1 1 1 1 1 1 1 2 2 1 1 1 1 1 1 1 2 2 2 2 2\n",
      " 1 1 1 1 1 2 2 2 2 1 1 1 1 1 1 1 1 1 1 1 1 1 1 1 1 1 1 1 2 2 2 1 1 1 1 1 1\n",
      " 1 1 1 1 1 1 2 1 1 2 2]\n",
      "help_ingredient_num_2: [4 5 4 4 5 5 5 5 2 2 2 2 2 2 2 2 2 2 2 2 2 2 2 3 3 2 2 4 2 1 2 3 4 5 4 4 5\n",
      " 1 1 2 2 1 4 4 4 5 2 2 1 1 3 2 2 2 2 2 2 2 2 2 3 2 3 2 2 5 5 5 2 2 1 3 2 2\n",
      " 1 2 3 2 2 2 5 2 2 5 5]\n",
      "help_ingredient_num_3: [7 6 7 6 7 7 7 5 4 4 4 3 3 3 3 3 3 3 3 4 3 3 2 7 8 4 4 5 4 2 5 5 4 6 4 4 4\n",
      " 2 4 3 2 2 8 8 6 7 4 4 4 3 5 3 3 4 4 2 3 3 3 3 4 4 4 4 4 8 8 8 4 4 2 4 3 3\n",
      " 2 4 4 4 4 4 6 4 4 8 8]\n",
      "help_time: ['1:12:44' '1:06:58' '0:57:38' '0:57:38' '0:51:45' '0:57:31' '1:22:00'\n",
      " '0:55:18' '1:12:53' '1:08:36' '1:08:44' '0:42:22' '1:20:41' '1:20:11'\n",
      " '0:51:37' '1:07:31' '1:22:20' '1:07:47' '1:07:39' '0:44:00' '0:48:30'\n",
      " '0:33:12' '0:57:19' '1:05:10' '1:17:34' '1:12:36' '0:48:42' '1:27:50'\n",
      " '1:03:55' '0:59:06' '1:11:05' '0:36:09' '1:24:45' '1:41:59' '1:33:40'\n",
      " '1:33:28' '1:43:02' '1:34:14' '1:07:26' '1:35:18' '1:08:24' '0:38:24'\n",
      " '1:02:19' '1:02:11' '0:48:42' '0:43:55' '1:00:18' '0:50:55' '1:00:55'\n",
      " '1:00:40' '1:04:32' '1:05:44' '1:10:48' '1:10:31' '1:25:37' '1:25:27'\n",
      " '1:33:25' '1:19:40' '1:19:02' '1:01:56' '0:55:01' '1:10:41' '1:20:31'\n",
      " '1:20:31' '1:20:31' '1:19:21' '1:18:24' '0:58:33' '1:28:56' '1:19:52'\n",
      " '1:26:33' '1:08:19' '1:04:13' '0:57:47' '1:34:55' '1:32:35' '1:22:39'\n",
      " '1:43:31' '1:43:31' '1:43:06' '1:10:57' '1:16:04' '1:08:27' '1:41:26'\n",
      " '1:31:05']\n",
      "help_max: [11 11 12 12 12 12 10 31 11 36 19 31 10 10 16 10 10 10 10 23 17 26  9 10\n",
      " 10  9 24  8 12 12  8 21 14  9  9  9  9  9 28  8 13 27 10 10 20 14 10 15\n",
      " 12 12 12 17 10 10  8  8  8  8  8 21 11 10 10 10 10  9  9 25  7  7  8 12\n",
      " 11 11 25  9  9  8  8 26 10  9 15 10 28]\n"
     ]
    }
   ],
   "source": [
    "# 引入資料1\n",
    "import sqlite3\n",
    "\n",
    "class same_pokemon():\n",
    "    def __init__(self):\n",
    "        self.conn = sqlite3.connect(\"pokemon_database.db\")\n",
    "        cursor = self.conn.cursor()\n",
    "        cursor.execute('''\n",
    "            SELECT * FROM pokemon\n",
    "            '''\n",
    "        )\n",
    "        rows = cursor.fetchall()\n",
    "\n",
    "        name = []\n",
    "        sp = []\n",
    "        level = []\n",
    "        help_fruit_num = []\n",
    "        help_ingredient_num_1 = []\n",
    "        help_ingredient_num_2 = []\n",
    "        help_ingredient_num_3 = []\n",
    "        help_time = []\n",
    "        help_max = []\n",
    "\n",
    "        skill_main = []\n",
    "        skill_main_num = []\n",
    "        skill_main_level = []\n",
    "        skill_second_1 = []\n",
    "        skill_second_num_1 = []\n",
    "\n",
    "        for row in rows:\n",
    "            name.append(row[2])\n",
    "            sp.append(row[3])\n",
    "            level.append(row[5])\n",
    "            help_fruit_num.append(row[7])\n",
    "            help_ingredient_num_1.append(row[9])\n",
    "            help_ingredient_num_2.append(row[11])\n",
    "            help_ingredient_num_3.append(row[13])\n",
    "            help_time.append(row[14])\n",
    "            help_max.append(row[15])\n",
    "\n",
    "            skill_main.append(row[16])\n",
    "            skill_main_num.append(row[17])\n",
    "            skill_main_level.append(row[18])\n",
    "            skill_second_1.append(row[19])\n",
    "            skill_second_num_1.append(row[20])\n",
    "\n",
    "        # 將 Python 列表轉換為 NumPy 陣列\n",
    "        self.a = np.array(name)\n",
    "        self.b = np.array(sp)\n",
    "        self.c = np.array(level)\n",
    "        self.d = np.array(help_fruit_num)\n",
    "        self.e = np.array(help_ingredient_num_1)\n",
    "        self.f = np.array(help_ingredient_num_2)\n",
    "        self.g = np.array(help_ingredient_num_3)\n",
    "        self.h = np.array(help_time)\n",
    "        self.i = np.array(help_max)\n",
    "\n",
    "        self.j = np.array(skill_main)\n",
    "        self.k = np.array(skill_main_num)\n",
    "        self.l = np.array(skill_main_level)\n",
    "        self.m = np.array(skill_second_1)\n",
    "        self.n = np.array(skill_second_num_1)\n",
    "\n",
    "    def get_data(self):\n",
    "        return self.a, self.b, self.c, self.d, self.e, self.f, self.g, self.h, self.i,self.j,self.k,self.l,self.m,self.n\n",
    "\n",
    "# 創建物件\n",
    "pokemon_instance = same_pokemon()\n",
    "name, sp ,level,help_fruit_num,help_ingredient_num_1,help_ingredient_num_2,help_ingredient_num_3,help_time,help_max,skill_main,skill_main_num,skill_main_level,skill_second_1,skill_second_num_1= pokemon_instance.get_data()\n",
    "\n",
    "# 現在 name 和 sp 包含了從資料庫中擷取的資料\n",
    "print(\"name:\", name)\n",
    "print(\"sp:\", sp)\n",
    "print(\"level:\", level)\n",
    "print(\"help_fruit_num:\", help_fruit_num)\n",
    "print(\"help_ingredient_num_1:\", help_ingredient_num_1)\n",
    "print(\"help_ingredient_num_2:\", help_ingredient_num_2)\n",
    "print(\"help_ingredient_num_3:\", help_ingredient_num_3)\n",
    "print(\"help_time:\", help_time)\n",
    "print(\"help_max:\", help_max)\n",
    "\n",
    "print(\"skill_main:\", skill_main)\n",
    "print(\"skill_main_num:\", skill_main_num)\n",
    "print(\"skill_main_level:\", skill_main_level)\n",
    "print(\"skill_second_1:\", skill_second_1)\n",
    "print(\"skill_second_num_1:\", skill_second_num_1)"
   ]
  },
  {
   "cell_type": "code",
   "execution_count": 6,
   "metadata": {},
   "outputs": [
    {
     "name": "stdout",
     "output_type": "stream",
     "text": [
      "name: ['妙蛙種子', '妙蛙種子', '小火龍', '小火龍', '小火龍', '小火龍', '傑尼龜', '卡咪龜', '綠毛蟲', '鐵甲蛹', '鐵甲蛹', '巴大蝶', '小拉達', '小拉達', '拉達', '阿柏蛇', '阿柏蛇', '阿柏蛇', '阿柏蛇', '皮卡丘', '皮卡丘', '雷丘', '胖丁', '地鼠', '地鼠', '喵喵', '貓老大', '可達鴨', '猴怪', '猴怪', '卡蒂狗', '風速狗', '喇叭芽', '小拳石', '小拳石', '小拳石', '小拳石', '呆呆獸', '呆殼獸', '小磁怪', '嘟嘟', '嘟嘟利', '鬼斯', '鬼斯', '鬼斯通', '鬼斯通', '卡拉卡拉', '嘎啦嘎啦', '伊布', '伊布', '菊草葉', '小鉅鱷', '皮丘', '皮丘', '寶寶丁', '寶寶丁', '寶寶丁', '波克比', '波克比', '波客基古', '茸茸羊', '樹才怪', '戴魯比', '戴魯比', '戴魯比', '幼基拉斯', '幼基拉斯', '沙基拉斯', '懶人獺', '懶人獺', '溶食獸', '清綿鳥', '怨影娃娃', '怨影娃娃', '小果然', '海豹球', '海豹球', '盆才怪', '盆才怪', '盆才怪', '魔尼尼', '利歐路', '利歐路', '不良蛙', '不良蛙']\n",
      "sp: [388, 460, 409, 409, 421, 404, 364, 690, 308, 519, 451, 872, 317, 335, 611, 459, 346, 445, 452, 654, 565, 849, 732, 359, 345, 332, 627, 369, 383, 444, 411, 1088, 379, 442, 332, 351, 330, 352, 649, 381, 358, 779, 388, 399, 606, 571, 497, 680, 466, 475, 536, 558, 318, 344, 279, 307, 387, 291, 321, 693, 487, 591, 390, 411, 390, 356, 446, 613, 322, 386, 371, 415, 394, 401, 408, 332, 366, 324, 300, 10, 375, 313, 363, 313, 434]\n",
      "level: [5, 10, 7, 7, 8, 8, 4, 13, 4, 11, 10, 12, 7, 10, 17, 17, 7, 15, 16, 12, 11, 14, 11, 12, 9, 6, 14, 13, 10, 10, 5, 19, 12, 13, 8, 8, 8, 5, 17, 8, 10, 21, 9, 10, 14, 13, 14, 16, 7, 9, 12, 14, 7, 9, 7, 8, 11, 3, 7, 12, 12, 19, 8, 8, 8, 5, 11, 13, 6, 12, 12, 13, 7, 7, 10, 5, 9, 8, 8, 10, 6, 7, 12, 7, 13]\n",
      "help_fruit_num: [1, 1, 1, 1, 1, 1, 1, 1, 2, 2, 2, 3, 2, 2, 2, 2, 2, 2, 2, 2, 2, 2, 1, 1, 1, 1, 1, 1, 2, 2, 1, 1, 1, 2, 1, 1, 1, 1, 1, 1, 2, 2, 1, 1, 1, 1, 2, 2, 1, 1, 2, 2, 2, 2, 1, 1, 1, 1, 1, 1, 1, 1, 2, 2, 2, 1, 1, 1, 2, 2, 1, 2, 2, 2, 1, 2, 2, 1, 1, 1, 1, 1, 1, 1, 1]\n",
      "help_ingredient_num_1: [2, 2, 2, 2, 2, 2, 2, 2, 1, 1, 1, 1, 1, 1, 1, 1, 1, 1, 1, 1, 1, 1, 1, 2, 2, 1, 1, 1, 1, 1, 1, 1, 2, 2, 2, 2, 2, 1, 1, 1, 1, 1, 2, 2, 2, 2, 1, 1, 1, 1, 1, 1, 1, 1, 1, 1, 1, 1, 1, 1, 1, 1, 1, 1, 1, 2, 2, 2, 1, 1, 1, 1, 1, 1, 1, 1, 1, 1, 1, 1, 2, 1, 1, 2, 2]\n",
      "help_ingredient_num_2: [4, 5, 4, 4, 5, 5, 5, 5, 2, 2, 2, 2, 2, 2, 2, 2, 2, 2, 2, 2, 2, 2, 2, 3, 3, 2, 2, 4, 2, 1, 2, 3, 4, 5, 4, 4, 5, 1, 1, 2, 2, 1, 4, 4, 4, 5, 2, 2, 1, 1, 3, 2, 2, 2, 2, 2, 2, 2, 2, 2, 3, 2, 3, 2, 2, 5, 5, 5, 2, 2, 1, 3, 2, 2, 1, 2, 3, 2, 2, 2, 5, 2, 2, 5, 5]\n",
      "help_ingredient_num_3: [7, 6, 7, 6, 7, 7, 7, 5, 4, 4, 4, 3, 3, 3, 3, 3, 3, 3, 3, 4, 3, 3, 2, 7, 8, 4, 4, 5, 4, 2, 5, 5, 4, 6, 4, 4, 4, 2, 4, 3, 2, 2, 8, 8, 6, 7, 4, 4, 4, 3, 5, 3, 3, 4, 4, 2, 3, 3, 3, 3, 4, 4, 4, 4, 4, 8, 8, 8, 4, 4, 2, 4, 3, 3, 2, 4, 4, 4, 4, 4, 6, 4, 4, 8, 8]\n",
      "help_time: ['1:12:44', '1:06:58', '0:57:38', '0:57:38', '0:51:45', '0:57:31', '1:22:00', '0:55:18', '1:12:53', '1:08:36', '1:08:44', '0:42:22', '1:20:41', '1:20:11', '0:51:37', '1:07:31', '1:22:20', '1:07:47', '1:07:39', '0:44:00', '0:48:30', '0:33:12', '0:57:19', '1:05:10', '1:17:34', '1:12:36', '0:48:42', '1:27:50', '1:03:55', '0:59:06', '1:11:05', '0:36:09', '1:24:45', '1:41:59', '1:33:40', '1:33:28', '1:43:02', '1:34:14', '1:07:26', '1:35:18', '1:08:24', '0:38:24', '1:02:19', '1:02:11', '0:48:42', '0:43:55', '1:00:18', '0:50:55', '1:00:55', '1:00:40', '1:04:32', '1:05:44', '1:10:48', '1:10:31', '1:25:37', '1:25:27', '1:33:25', '1:19:40', '1:19:02', '1:01:56', '0:55:01', '1:10:41', '1:20:31', '1:20:31', '1:20:31', '1:19:21', '1:18:24', '0:58:33', '1:28:56', '1:19:52', '1:26:33', '1:08:19', '1:04:13', '0:57:47', '1:34:55', '1:32:35', '1:22:39', '1:43:31', '1:43:31', '1:43:06', '1:10:57', '1:16:04', '1:08:27', '1:41:26', '1:31:05']\n",
      "help_max: [11, 11, 12, 12, 12, 12, 10, 31, 11, 36, 19, 31, 10, 10, 16, 10, 10, 10, 10, 23, 17, 26, 9, 10, 10, 9, 24, 8, 12, 12, 8, 21, 14, 9, 9, 9, 9, 9, 28, 8, 13, 27, 10, 10, 20, 14, 10, 15, 12, 12, 12, 17, 10, 10, 8, 8, 8, 8, 8, 21, 11, 10, 10, 10, 10, 9, 9, 25, 7, 7, 8, 12, 11, 11, 25, 9, 9, 8, 8, 26, 10, 9, 15, 10, 28]\n",
      "skill_main: ['食材獲取', '食材獲取', '食材獲取', '食材獲取', '食材獲取', '食材獲取', '食材獲取', '食材獲取', '食材獲取', '食材獲取', '食材獲取', '食材獲取', '活力填充', '活力填充', '活力填充', '活力填充', '活力填充', '活力填充', '活力填充', '能量填充', '能量填充', '能量填充', '活力全體療癒', '能量填充', '能量填充', '夢之碎片獲取', '夢之碎片獲取', '能量填充', '能量填充', '能量填充', '幫手支援', '幫手支援', '活力填充', '能量填充', '能量填充', '能量填充', '能量填充', '活力療癒', '活力療癒', '料理強化', '活力填充', '活力填充', '能量填充', '能量填充', '能量填充', '能量填充', '活力填充', '活力填充', '食材獲取', '食材獲取', '能量填充', '能量填充', '能量填充', '能量填充', '活力全體療癒', '活力全體療癒', '活力全體療癒', '揮指', '揮指', '揮指', '能量填充', '能量填充', '能量填充', '能量填充', '能量填充', '活力填充', '活力填充', '活力填充', '食材獲取', '食材獲取', '夢之碎片獲取', '活力填充', '能量填充', '能量填充', '活力療癒', '食材獲取', '食材獲取', '能量填充', '能量填充', '能量填充', '能量填充', '夢之碎片獲取', '夢之碎片獲取', '能量填充', '能量填充']\n",
      "skill_main_num: [6.0, 6.0, 6.0, 6.0, 6.0, 6.0, 6.0, 8.0, 6.0, 8.0, 6.0, 11.0, 12.0, 12.0, 12.0, 12.0, 12.0, 12.0, 12.0, 400.0, 400.0, 569.0, 9.0, 400.0, 400.0, 88.0, 88.0, '200~800', '200~800', '200~800', 4.0, 6.0, 12.0, '200~800', '200~800', '200~800', '200~800', 14.0, 14.0, 7.0, 12.0, 12.0, '200~800', '200~800', '200~800', '200~800', 12.0, 12.0, 6.0, 6.0, '200~800', '200~800', 400.0, 400.0, 5.0, 5.0, 5.0, 1.0, 1.0, 1.0, 880.0, 880.0, 400.0, 400.0, 400.0, 12.0, 12.0, 12.0, 6.0, 8.0, '44~176', 12.0, '200~800', '200~800', 14.0, 6.0, 6.0, 880.0, 880.0, 880.0, 400.0, 88.0, 88.0, 400.0, 400.0]\n",
      "skill_main_level: [1, 1, 1, 1, 1, 1, 1, 2, 1, 2, 1, 3, 1, 1, 1, 1, 1, 1, 1, 1, 1, 2, 3, 1, 1, 1, 1, 1, 1, 1, 1, 3, 1, 1, 1, 1, 1, 1, 1, 1, 1, 1, 1, 1, 1, 1, 1, 1, 1, 1, 1, 1, 1, 1, 1, 1, 1, 1, 1, 2, 1, 1, 1, 1, 1, 1, 1, 1, 1, 2, 1, 1, 1, 1, 1, 1, 1, 1, 1, 1, 1, 1, 1, 1, 1]\n",
      "skill_second_1: ['幫忙速度', '幫忙速度', '食材機率提升', '技能機率提升', '幫手獎勵', '技能機率提升', '技能等級提升', '持有上限提升', '技能機率提升', '持有上限提升', '持有上限提升', '樹果數量', '持有上限提升', '食材機率提升', '技能機率提升', '幫忙速度', '睡眠EXP獎勵', '幫忙速度', '幫忙速度', '持有上限提升', '技能機率提升', '幫忙速度', '技能等級提升', '幫忙速度', '持有上限提升', '幫忙速度', '持有上限提升', '食材機率提升', '幫忙速度', '幫忙速度', '食材機率提升', '技能等級提升', '持有上限提升', '樹果數量', '持有上限提升', '幫忙速度', '持有上限提升', '技能機率提升', '持有上限提升', '技能機率提升', '食材機率提升', '持有上限提升', '技能機率提升', '技能機率提升', '持有上限提升', '技能機率提升', '幫忙速度', '技能機率提升', '持有上限提升', '幫忙速度', '技能機率提升', '持有上限提升', '幫忙速度', '持有上限提升', '技能機率提升', '幫忙速度', '活力恢復獎勵', '技能等級提升', '持有上限提升', '持有上限提升', '幫忙速度', '技能機率提升', '幫忙速度', '持有上限提升', '食材機率提升', '技能機率提升', '幫手獎勵', '持有上限提升', '技能機率提升', '技能等級提升', '食材機率提升', '食材機率提升', '幫忙速度', '食材機率提升', '持有上限提升', '技能機率提升', '研究EXP獎勵', '食材機率提升', '技能機率提升', '持有上限提升', '技能機率提升', '技能機率提升', '持有上限提升', '持有上限提升', '持有上限提升']\n",
      "skill_second_num_1: [84.0, 93.0, 150.0, 150.0, 95.0, 150.0, 1.0, 12.0, 150.0, 18.0, 6.0, 1.0, 12.0, 125.0, 125.0, 93.0, 114.0, 93.0, 93.0, 6.0, 125.0, 93.0, 2.0, 93.0, 18.0, 93.0, 12.0, 125.0, 93.0, 86.0, 125.0, 1.0, 6.0, 1.0, 6.0, 93.0, 6.0, 150.0, 18.0, 150.0, 125.0, 6.0, 125.0, 125.0, 6.0, 125.0, 86.0, 125.0, 18.0, 93.0, 150.0, 6.0, 86.0, 18.0, 125.0, 93.0, 112.0, 1.0, 18.0, 6.0, 93.0, 125.0, 93.0, 6.0, 125.0, 125.0, 95.0, 12.0, 125.0, 1.0, 150.0, 125.0, 93.0, 150.0, 18.0, 125.0, 106.0, 150.0, 125.0, 18.0, 150.0, 125.0, 6.0, 18.0, 18.0]\n",
      "skill_second_2: ['技能機率提升', '持有上限提升', '技能等級提升', '技能等級提升', '持有上限提升', '活力恢復獎勵', '夢之碎片獎勵', '幫忙速度', '技能等級提升', '食材機率提升', '幫忙速度', '持有上限提升', '食材機率提升', '持有上限提升', '幫忙速度', '幫手獎勵', '幫忙速度', '幫手獎勵', '幫手獎勵', '技能等級提升', '食材機率提升', '食材機率提升', '技能等級提升', '食材機率提升', '技能等級提升', '夢之碎片獎勵', '食材機率提升', '幫忙速度', '技能機率提升', '技能等級提升', '技能機率提升', '持有上限提升', '技能機率提升', '幫忙速度', '幫手獎勵', '持有上限提升', '技能機率提升', '持有上限提升', '食材機率提升', '食材機率提升', '技能機率提升', '持有上限提升', '幫忙速度', '幫忙速度', '食材機率提升', '幫忙速度', '幫忙速度', '持有上限提升', '食材機率提升', '持有上限提升', '技能機率提升', '食材機率提升', '技能等級提升', '技能等級提升', '幫忙速度', '食材機率提升', '食材機率提升', '持有上限提升', '技能機率提升', '幫手獎勵', '食材機率提升', '活力恢復獎勵', '幫忙速度', '技能機率提升', '持有上限提升', '持有上限提升', '技能機率提升', '幫忙速度', '持有上限提升', '持有上限提升', '持有上限提升', '研究EXP獎勵', '持有上限提升', '樹果數量', '食材機率提升', '持有上限提升', '食材機率提升', '持有上限提升', '幫忙速度', '幫忙速度', '技能機率提升', '持有上限提升', '食材機率提升', '幫手獎勵', '持有上限提升']\n",
      "skill_second_num_2: [125.0, 12.0, 1.0, 1.0, 18.0, 112.0, 106.0, 93.0, 1.0, 125.0, 93.0, 6.0, 125.0, 6.0, 93.0, 95.0, 86.0, 95.0, 95.0, 1.0, 125.0, 125.0, 1.0, 150.0, 1.0, 106.0, 125.0, 86.0, 125.0, 1.0, 150.0, 18.0, 125.0, 93.0, 95.0, 18.0, 125.0, 6.0, 125.0, 125.0, 125.0, 12.0, 86.0, 86.0, 125.0, 93.0, 93.0, 18.0, 125.0, 6.0, 125.0, 150.0, 2.0, 2.0, 93.0, 125.0, 150.0, 6.0, 150.0, 95.0, 125.0, 112.0, 86.0, 1.0, 6.0, 6.0, 150.0, 86.0, 6.0, 18.0, 18.0, 106.0, 6.0, 1.0, 125.0, 12.0, 150.0, 6.0, 93.0, 93.0, 125.0, 12.0, 125.0, 95.0, 6.0]\n",
      "skill_second_3: ['幫忙速度', '幫手獎勵', '技能機率提升', '持有上限提升', '持有上限提升', '幫忙速度', '持有上限提升', '技能機率提升', '持有上限提升', '幫忙速度', '研究EXP獎勵', '睡眠EXP獎勵', '持有上限提升', '技能機率提升', '技能等級提升', '持有上限提升', '活力恢復獎勵', '持有上限提升', '持有上限提升', '幫忙速度', '持有上限提升', '技能機率提升', '持有上限提升', '技能等級提升', '活力恢復獎勵', '技能機率提升', '幫忙速度', '幫忙速度', '技能機率提升', '幫忙速度', '技能等級提升', '技能機率提升', '技能等級提升', '持有上限提升', '技能機率提升', '技能機率提升', '持有上限提升', '持有上限提升', '技能機率提升', '活力恢復獎勵', '持有上限提升', '技能機率提升', '幫忙速度', '幫忙速度', '幫忙速度', '食材機率提升', '幫手獎勵', '幫忙速度', '幫忙速度', '技能等級提升', '食材機率提升', '技能機率提升', '幫忙速度', '技能機率提升', '持有上限提升', '幫忙速度', '食材機率提升', '幫忙速度', '持有上限提升', '技能機率提升', '技能機率提升', '持有上限提升', '持有上限提升', '幫忙速度', '持有上限提升', '幫手獎勵', '技能機率提升', '睡眠EXP獎勵', '睡眠EXP獎勵', '技能等級提升', '幫忙速度', '技能機率提升', '食材機率提升', '食材機率提升', '幫忙速度', '食材機率提升', '持有上限提升', '食材機率提升', '技能機率提升', '食材機率提升', '夢之碎片獎勵', '技能等級提升', '幫忙速度', '研究EXP獎勵', '技能機率提升']\n",
      "skill_second_num_3: [93.0, 95.0, 150.0, 12.0, 6.0, 93.0, 18.0, 125.0, 6.0, 86.0, 106.0, 114.0, 6.0, 125.0, 1.0, 6.0, 112.0, 6.0, 6.0, 86.0, 6.0, 125.0, 12.0, 1.0, 112.0, 125.0, 93.0, 93.0, 150.0, 93.0, 1.0, 125.0, 1.0, 6.0, 125.0, 125.0, 12.0, 12.0, 125.0, 112.0, 6.0, 125.0, 93.0, 93.0, 93.0, 125.0, 95.0, 93.0, 93.0, 2.0, 125.0, 150.0, 93.0, 125.0, 6.0, 86.0, 125.0, 93.0, 6.0, 125.0, 125.0, 18.0, 6.0, 93.0, 12.0, 95.0, 125.0, 114.0, 114.0, 2.0, 86.0, 150.0, 125.0, 125.0, 86.0, 125.0, 6.0, 125.0, 150.0, 125.0, 106.0, 1.0, 93.0, 106.0, 125.0]\n",
      "skill_second_4: ['食材機率提升', '食材機率提升', '技能機率提升', '食材機率提升', '技能機率提升', '持有上限提升', '幫忙速度', '食材機率提升', '幫忙速度', '技能機率提升', '技能等級提升', '食材機率提升', '技能機率提升', '樹果數量', '幫忙速度', '幫忙速度', '幫忙速度', '幫忙速度', '幫忙速度', '技能機率提升', '幫忙速度', '技能等級提升', '技能機率提升', '幫手獎勵', '持有上限提升', '技能機率提升', '食材機率提升', '食材機率提升', '食材機率提升', '持有上限提升', '幫忙速度', '持有上限提升', '幫忙速度', '技能機率提升', '食材機率提升', '技能機率提升', '幫手獎勵', '持有上限提升', '幫忙速度', '幫忙速度', '持有上限提升', '幫忙速度', '研究EXP獎勵', '研究EXP獎勵', '技能機率提升', '食材機率提升', '持有上限提升', '持有上限提升', '持有上限提升', '技能機率提升', '持有上限提升', '持有上限提升', '技能機率提升', '幫忙速度', '食材機率提升', '技能機率提升', '技能等級提升', '幫手獎勵', '技能等級提升', '技能機率提升', '技能等級提升', '持有上限提升', '技能機率提升', '食材機率提升', '技能等級提升', '幫忙速度', '食材機率提升', '樹果數量', '幫忙速度', '活力恢復獎勵', '幫忙速度', '持有上限提升', '技能機率提升', '技能等級提升', '技能等級提升', '幫忙速度', '食材機率提升', '夢之碎片獎勵', '持有上限提升', '持有上限提升', '活力恢復獎勵', '持有上限提升', '睡眠EXP獎勵', '持有上限提升', '技能等級提升']\n",
      "skill_second_num_4: [125.0, 125.0, 150.0, 150.0, 150.0, 18.0, 86.0, 125.0, 93.0, 125.0, 1.0, 125.0, 125.0, 1.0, 86.0, 86.0, 93.0, 86.0, 86.0, 125.0, 93.0, 1.0, 150.0, 95.0, 6.0, 150.0, 150.0, 150.0, 125.0, 6.0, 93.0, 12.0, 86.0, 150.0, 125.0, 150.0, 95.0, 18.0, 93.0, 93.0, 18.0, 86.0, 106.0, 106.0, 125.0, 150.0, 12.0, 6.0, 6.0, 125.0, 125.0, 12.0, 150.0, 93.0, 125.0, 125.0, 1.0, 95.0, 1.0, 125.0, 1.0, 12.0, 125.0, 125.0, 1.0, 93.0, 12.0, 1.0, 93.0, 112.0, 93.0, 6.0, 150.0, 1.0, 1.0, 93.0, 125.0, 106.0, 6.0, 12.0, 112.0, 6.0, 86.0, 6.0, 2.0]\n",
      "skill_second_5: ['持有上限提升', '持有上限提升', '持有上限提升', '夢之碎片獎勵', '技能等級提升', '技能機率提升', '技能機率提升', '技能機率提升', '持有上限提升', '持有上限提升', '技能機率提升', '持有上限提升', '技能等級提升', '持有上限提升', '食材機率提升', '技能機率提升', '技能機率提升', '技能機率提升', '技能機率提升', '幫忙速度', '持有上限提升', '持有上限提升', '活力恢復獎勵', '持有上限提升', '幫忙速度', '食材機率提升', '技能等級提升', '技能等級提升', '持有上限提升', '食材機率提升', '持有上限提升', '幫忙速度', '幫忙速度', '食材機率提升', '持有上限提升', '睡眠EXP獎勵', '技能等級提升', '幫手獎勵', '技能等級提升', '持有上限提升', '幫忙速度', '技能等級提升', '食材機率提升', '食材機率提升', '幫忙速度', '持有上限提升', '食材機率提升', '食材機率提升', '技能機率提升', '持有上限提升', '幫忙速度', '技能等級提升', '食材機率提升', '持有上限提升', '食材機率提升', '持有上限提升', '幫忙速度', '持有上限提升', '持有上限提升', '幫忙速度', '持有上限提升', '食材機率提升', '食材機率提升', '研究EXP獎勵', '持有上限提升', '食材機率提升', '持有上限提升', '幫忙速度', '食材機率提升', '技能機率提升', '食材機率提升', '技能機率提升', '持有上限提升', '持有上限提升', '食材機率提升', '技能等級提升', '技能機率提升', '幫忙速度', '持有上限提升', '幫忙速度', '持有上限提升', '食材機率提升', '技能機率提升', '食材機率提升', '食材機率提升']\n",
      "skill_second_num_5: [12.0, 6.0, 12.0, 106.0, 2.0, 125.0, 125.0, 150.0, 18.0, 6.0, 125.0, 18.0, 1.0, 12.0, 150.0, 125.0, 150.0, 125.0, 125.0, 93.0, 18.0, 12.0, 112.0, 12.0, 86.0, 125.0, 1.0, 2.0, 18.0, 125.0, 6.0, 86.0, 93.0, 125.0, 18.0, 114.0, 2.0, 95.0, 1.0, 12.0, 93.0, 1.0, 150.0, 150.0, 86.0, 6.0, 125.0, 125.0, 125.0, 18.0, 93.0, 1.0, 150.0, 6.0, 150.0, 6.0, 86.0, 12.0, 12.0, 86.0, 6.0, 125.0, 125.0, 106.0, 18.0, 125.0, 18.0, 125.0, 125.0, 150.0, 125.0, 125.0, 12.0, 6.0, 150.0, 1.0, 125.0, 93.0, 18.0, 86.0, 18.0, 125.0, 125.0, 125.0, 125.0]\n",
      "power_up: ['無', '主計能發動機率', '無', '無', '幫忙速度', 'EXP獲得量', '主技能發動機率', '無', '活力回復量', '活力回復量', '活力回復量', '主技能發動機率', '無', 'EXP獲得量', '食材發現率', '幫忙速度', '無', '幫忙速度', '幫忙速度', '活力回復量', '活力回復量', '主技能發動機率', '幫忙速度', 'EXP獲得量', '食材發現率', '無', '活力回復量', 'EXP獲得量', '主技能發動機率', '無', '主技能發動機率', '幫忙速度', '食材發現率', '活力回復量', '活力回復量', '主技能發動機率', '活力回復量', '無', 'EXP獲得量', '主技能發動機率', 'EXP獲得量', '食材發現率', '食材發現率', '食材發現率', '活力回復量', '幫忙速度', '幫忙速度', '幫忙速度', '無', '無', '幫忙速度', '幫忙速度', 'EXP獲得量', '無', 'EXP獲得量', '無', '主技能發動機率', 'EXP獲得量', 'EXP獲得量', '主技能發動機率', 'EXP獲得量', '活力回復量', '無', '活力回復量', '無', '無', '主技能發動機率', '活力回復量', '主技能發動機率', '食材發現率', '幫忙速度', '無', '無', '幫忙速度', '主技能發動機率', '無', '幫忙速度', '無', '無', '無', '活力回復量', '食材發現率', '食材發現率', '主技能發動機率', '主技能發動機率']\n",
      "power_down: ['無', 'EXP獲得量', '無', '無', '活力回復量', '主技能發動機率', '幫忙速度', '無', 'EXP獲得量', '主技能發動機率', 'EXP獲得量', '活力回復量', '無', '食材發現率', 'EXP獲得量', '活力回復量', '無', '活力回復量', '活力回復量', '主技能發動機率', '幫忙速度', '活力回復量', '食材發現率', '食材發現率', '幫忙速度', '無', '主技能發動機率', '食材發現率', '活力回復量', '無', 'EXP獲得量', '活力回復量', '活力回復量', '幫忙速度', '食材發現率', 'EXP獲得量', '幫忙速度', '無', '幫忙速度', 'EXP獲得量', '幫忙速度', '活力回復量', 'EXP獲得量', 'EXP獲得量', 'EXP獲得量', '主技能發動機率', '活力回復量', 'EXP獲得量', '無', '無', 'EXP獲得量', 'EXP獲得量', '主技能發動機率', '無', '活力回復量', '無', '幫忙速度', '活力回復量', '食材發現率', 'EXP獲得量', '幫忙速度', '幫忙速度', '無', '食材發現率', '無', '無', '活力回復量', '食材發現率', '幫忙速度', '活力回復量', '活力回復量', '無', '無', '活力回復量', 'EXP獲得量', '無', '活力回復量', '無', '無', '無', 'EXP獲得量', '幫忙速度', '活力回復量', '幫忙速度', 'EXP獲得量']\n"
     ]
    }
   ],
   "source": [
    "#引入資料2\n",
    "import sqlite3\n",
    "\n",
    "class SamePokemon:\n",
    "    def __init__(self):\n",
    "        self.conn = sqlite3.connect(\"pokemon_database.db\")\n",
    "        cursor = self.conn.cursor()\n",
    "        cursor.execute('SELECT * FROM pokemon')\n",
    "        self.rows = cursor.fetchall()\n",
    "\n",
    "        self.columns = {\n",
    "            'name': 2,\n",
    "            'sp': 3,\n",
    "            'level': 5,\n",
    "            'help_fruit_num': 7,\n",
    "            'help_ingredient_num_1': 9,\n",
    "            'help_ingredient_num_2': 11,\n",
    "            'help_ingredient_num_3': 13,\n",
    "            'help_time': 14,\n",
    "            'help_max': 15,\n",
    "            'skill_main': 16,\n",
    "            'skill_main_num': 17,\n",
    "            'skill_main_level': 18,\n",
    "            'skill_second_1': 19,\n",
    "            'skill_second_num_1': 20,\n",
    "            'skill_second_2':21,\n",
    "            'skill_second_num_2':22,\n",
    "            'skill_second_3':23,\n",
    "            'skill_second_num_3':24,\n",
    "            'skill_second_4':25,\n",
    "            'skill_second_num_4':26,\n",
    "            'skill_second_5':27,\n",
    "            'skill_second_num_5':28,\n",
    "            'power_up':29,\n",
    "            'power_down':30\n",
    "        }\n",
    "\n",
    "    def get_data(self):\n",
    "        return {key: [row[idx] for row in self.rows] for key, idx in self.columns.items()}\n",
    "\n",
    "pokemon_instance = SamePokemon()\n",
    "data = pokemon_instance.get_data()\n",
    "\n",
    "for key, values in data.items():\n",
    "    print(key + \":\", values)\n"
   ]
  },
  {
   "cell_type": "code",
   "execution_count": 40,
   "metadata": {},
   "outputs": [
    {
     "name": "stderr",
     "output_type": "stream",
     "text": [
      "C:\\Users\\user\\AppData\\Local\\Temp\\ipykernel_1316\\2851115108.py:4: FutureWarning: In the future `np.str` will be defined as the corresponding NumPy scalar.\n",
      "  x = np.array([sp[0], level[0], help_fruit_num[0], help_ingredient_num_1[0], help_ingredient_num_2[0], help_ingredient_num_3[0], help_max[0]], dtype=np.str)\n"
     ]
    },
    {
     "ename": "AttributeError",
     "evalue": "module 'numpy' has no attribute 'str'.\n`np.str` was a deprecated alias for the builtin `str`. To avoid this error in existing code, use `str` by itself. Doing this will not modify any behavior and is safe. If you specifically wanted the numpy scalar type, use `np.str_` here.\nThe aliases was originally deprecated in NumPy 1.20; for more details and guidance see the original release note at:\n    https://numpy.org/devdocs/release/1.20.0-notes.html#deprecations",
     "output_type": "error",
     "traceback": [
      "\u001b[1;31m---------------------------------------------------------------------------\u001b[0m",
      "\u001b[1;31mAttributeError\u001b[0m                            Traceback (most recent call last)",
      "\u001b[1;32md:\\pokemon_sleep_sp\\kasumi.ipynb 儲存格 6\u001b[0m line \u001b[0;36m4\n\u001b[0;32m      <a href='vscode-notebook-cell:/d%3A/pokemon_sleep_sp/kasumi.ipynb#X13sZmlsZQ%3D%3D?line=0'>1</a>\u001b[0m \u001b[39mimport\u001b[39;00m \u001b[39mnumpy\u001b[39;00m \u001b[39mas\u001b[39;00m \u001b[39mnp\u001b[39;00m\n\u001b[0;32m      <a href='vscode-notebook-cell:/d%3A/pokemon_sleep_sp/kasumi.ipynb#X13sZmlsZQ%3D%3D?line=1'>2</a>\u001b[0m \u001b[39mfrom\u001b[39;00m \u001b[39msklearn\u001b[39;00m\u001b[39m.\u001b[39;00m\u001b[39mlinear_model\u001b[39;00m \u001b[39mimport\u001b[39;00m LinearRegression\n\u001b[1;32m----> <a href='vscode-notebook-cell:/d%3A/pokemon_sleep_sp/kasumi.ipynb#X13sZmlsZQ%3D%3D?line=3'>4</a>\u001b[0m x \u001b[39m=\u001b[39m np\u001b[39m.\u001b[39marray([sp[\u001b[39m0\u001b[39m], level[\u001b[39m0\u001b[39m], help_fruit_num[\u001b[39m0\u001b[39m], help_ingredient_num_1[\u001b[39m0\u001b[39m], help_ingredient_num_2[\u001b[39m0\u001b[39m], help_ingredient_num_3[\u001b[39m0\u001b[39m], help_max[\u001b[39m0\u001b[39m]], dtype\u001b[39m=\u001b[39mnp\u001b[39m.\u001b[39;49mstr)\n\u001b[0;32m      <a href='vscode-notebook-cell:/d%3A/pokemon_sleep_sp/kasumi.ipynb#X13sZmlsZQ%3D%3D?line=4'>5</a>\u001b[0m y \u001b[39m=\u001b[39m np\u001b[39m.\u001b[39marray([sp[\u001b[39m1\u001b[39m], level[\u001b[39m1\u001b[39m], help_fruit_num[\u001b[39m1\u001b[39m], help_ingredient_num_1[\u001b[39m1\u001b[39m], help_ingredient_num_2[\u001b[39m1\u001b[39m], help_ingredient_num_3[\u001b[39m1\u001b[39m], help_max[\u001b[39m1\u001b[39m]])\n\u001b[0;32m      <a href='vscode-notebook-cell:/d%3A/pokemon_sleep_sp/kasumi.ipynb#X13sZmlsZQ%3D%3D?line=6'>7</a>\u001b[0m \u001b[39m# 將 x 重塑為具有一行和多列的 2D 陣列\u001b[39;00m\n",
      "File \u001b[1;32md:\\pokemon_sleep_sp\\.venv\\lib\\site-packages\\numpy\\__init__.py:338\u001b[0m, in \u001b[0;36m__getattr__\u001b[1;34m(attr)\u001b[0m\n\u001b[0;32m    333\u001b[0m     warnings\u001b[39m.\u001b[39mwarn(\n\u001b[0;32m    334\u001b[0m         \u001b[39mf\u001b[39m\u001b[39m\"\u001b[39m\u001b[39mIn the future `np.\u001b[39m\u001b[39m{\u001b[39;00mattr\u001b[39m}\u001b[39;00m\u001b[39m` will be defined as the \u001b[39m\u001b[39m\"\u001b[39m\n\u001b[0;32m    335\u001b[0m         \u001b[39m\"\u001b[39m\u001b[39mcorresponding NumPy scalar.\u001b[39m\u001b[39m\"\u001b[39m, \u001b[39mFutureWarning\u001b[39;00m, stacklevel\u001b[39m=\u001b[39m\u001b[39m2\u001b[39m)\n\u001b[0;32m    337\u001b[0m \u001b[39mif\u001b[39;00m attr \u001b[39min\u001b[39;00m __former_attrs__:\n\u001b[1;32m--> 338\u001b[0m     \u001b[39mraise\u001b[39;00m \u001b[39mAttributeError\u001b[39;00m(__former_attrs__[attr])\n\u001b[0;32m    340\u001b[0m \u001b[39mif\u001b[39;00m attr \u001b[39m==\u001b[39m \u001b[39m'\u001b[39m\u001b[39mtesting\u001b[39m\u001b[39m'\u001b[39m:\n\u001b[0;32m    341\u001b[0m     \u001b[39mimport\u001b[39;00m \u001b[39mnumpy\u001b[39;00m\u001b[39m.\u001b[39;00m\u001b[39mtesting\u001b[39;00m \u001b[39mas\u001b[39;00m \u001b[39mtesting\u001b[39;00m\n",
      "\u001b[1;31mAttributeError\u001b[0m: module 'numpy' has no attribute 'str'.\n`np.str` was a deprecated alias for the builtin `str`. To avoid this error in existing code, use `str` by itself. Doing this will not modify any behavior and is safe. If you specifically wanted the numpy scalar type, use `np.str_` here.\nThe aliases was originally deprecated in NumPy 1.20; for more details and guidance see the original release note at:\n    https://numpy.org/devdocs/release/1.20.0-notes.html#deprecations"
     ]
    }
   ],
   "source": [
    "import numpy as np\n",
    "from sklearn.linear_model import LinearRegression\n",
    "\n",
    "x = np.array([sp[0], level[0], help_fruit_num[0], help_ingredient_num_1[0], help_ingredient_num_2[0], help_ingredient_num_3[0], help_max[0]], dtype=np.str)\n",
    "y = np.array([sp[1], level[1], help_fruit_num[1], help_ingredient_num_1[1], help_ingredient_num_2[1], help_ingredient_num_3[1], help_max[1]])\n",
    "\n",
    "# 將 x 重塑為具有一行和多列的 2D 陣列\n",
    "x_reshaped = x.reshape(-1, 1)\n",
    "\n",
    "linreg = LinearRegression()\n",
    "linreg.fit(x_reshaped, y)\n"
   ]
  },
  {
   "cell_type": "code",
   "execution_count": 42,
   "metadata": {},
   "outputs": [
    {
     "name": "stdout",
     "output_type": "stream",
     "text": [
      "[388   5   1   2   4   7  11]\n",
      "[460  10   1   2   5   6  11]\n"
     ]
    }
   ],
   "source": [
    "x=np.array([sp[0],level[0],help_fruit_num[0],help_ingredient_num_1[0],help_ingredient_num_2[0],help_ingredient_num_3[0],help_max[0]])\n",
    "y=np.array([sp[1],level[1],help_fruit_num[1],help_ingredient_num_1[1],help_ingredient_num_2[1],help_ingredient_num_3[1],help_max[1]])\n",
    "print(x)\n",
    "print(y)\n"
   ]
  },
  {
   "cell_type": "code",
   "execution_count": 36,
   "metadata": {},
   "outputs": [
    {
     "data": {
      "text/plain": [
       "array([[388],\n",
       "       [  5],\n",
       "       [  1],\n",
       "       [  2],\n",
       "       [  4],\n",
       "       [  7],\n",
       "       [ 11]])"
      ]
     },
     "execution_count": 36,
     "metadata": {},
     "output_type": "execute_result"
    }
   ],
   "source": [
    "X=x.reshape(-1,1)\n",
    "Y=y.reshape(-1,1)\n"
   ]
  },
  {
   "cell_type": "code",
   "execution_count": 37,
   "metadata": {},
   "outputs": [
    {
     "ename": "ValueError",
     "evalue": "Expected 2D array, got 1D array instead:\narray=[388   5   1   2   4   7  11].\nReshape your data either using array.reshape(-1, 1) if your data has a single feature or array.reshape(1, -1) if it contains a single sample.",
     "output_type": "error",
     "traceback": [
      "\u001b[1;31m---------------------------------------------------------------------------\u001b[0m",
      "\u001b[1;31mValueError\u001b[0m                                Traceback (most recent call last)",
      "\u001b[1;32md:\\pokemon_sleep_sp\\kasumi.ipynb 儲存格 9\u001b[0m line \u001b[0;36m1\n\u001b[1;32m----> <a href='vscode-notebook-cell:/d%3A/pokemon_sleep_sp/kasumi.ipynb#X11sZmlsZQ%3D%3D?line=0'>1</a>\u001b[0m linreg\u001b[39m.\u001b[39;49mfit(x,y)\n",
      "File \u001b[1;32md:\\pokemon_sleep_sp\\.venv\\lib\\site-packages\\sklearn\\base.py:1152\u001b[0m, in \u001b[0;36m_fit_context.<locals>.decorator.<locals>.wrapper\u001b[1;34m(estimator, *args, **kwargs)\u001b[0m\n\u001b[0;32m   1145\u001b[0m     estimator\u001b[39m.\u001b[39m_validate_params()\n\u001b[0;32m   1147\u001b[0m \u001b[39mwith\u001b[39;00m config_context(\n\u001b[0;32m   1148\u001b[0m     skip_parameter_validation\u001b[39m=\u001b[39m(\n\u001b[0;32m   1149\u001b[0m         prefer_skip_nested_validation \u001b[39mor\u001b[39;00m global_skip_validation\n\u001b[0;32m   1150\u001b[0m     )\n\u001b[0;32m   1151\u001b[0m ):\n\u001b[1;32m-> 1152\u001b[0m     \u001b[39mreturn\u001b[39;00m fit_method(estimator, \u001b[39m*\u001b[39margs, \u001b[39m*\u001b[39m\u001b[39m*\u001b[39mkwargs)\n",
      "File \u001b[1;32md:\\pokemon_sleep_sp\\.venv\\lib\\site-packages\\sklearn\\linear_model\\_base.py:678\u001b[0m, in \u001b[0;36mLinearRegression.fit\u001b[1;34m(self, X, y, sample_weight)\u001b[0m\n\u001b[0;32m    674\u001b[0m n_jobs_ \u001b[39m=\u001b[39m \u001b[39mself\u001b[39m\u001b[39m.\u001b[39mn_jobs\n\u001b[0;32m    676\u001b[0m accept_sparse \u001b[39m=\u001b[39m \u001b[39mFalse\u001b[39;00m \u001b[39mif\u001b[39;00m \u001b[39mself\u001b[39m\u001b[39m.\u001b[39mpositive \u001b[39melse\u001b[39;00m [\u001b[39m\"\u001b[39m\u001b[39mcsr\u001b[39m\u001b[39m\"\u001b[39m, \u001b[39m\"\u001b[39m\u001b[39mcsc\u001b[39m\u001b[39m\"\u001b[39m, \u001b[39m\"\u001b[39m\u001b[39mcoo\u001b[39m\u001b[39m\"\u001b[39m]\n\u001b[1;32m--> 678\u001b[0m X, y \u001b[39m=\u001b[39m \u001b[39mself\u001b[39;49m\u001b[39m.\u001b[39;49m_validate_data(\n\u001b[0;32m    679\u001b[0m     X, y, accept_sparse\u001b[39m=\u001b[39;49maccept_sparse, y_numeric\u001b[39m=\u001b[39;49m\u001b[39mTrue\u001b[39;49;00m, multi_output\u001b[39m=\u001b[39;49m\u001b[39mTrue\u001b[39;49;00m\n\u001b[0;32m    680\u001b[0m )\n\u001b[0;32m    682\u001b[0m has_sw \u001b[39m=\u001b[39m sample_weight \u001b[39mis\u001b[39;00m \u001b[39mnot\u001b[39;00m \u001b[39mNone\u001b[39;00m\n\u001b[0;32m    683\u001b[0m \u001b[39mif\u001b[39;00m has_sw:\n",
      "File \u001b[1;32md:\\pokemon_sleep_sp\\.venv\\lib\\site-packages\\sklearn\\base.py:622\u001b[0m, in \u001b[0;36mBaseEstimator._validate_data\u001b[1;34m(self, X, y, reset, validate_separately, cast_to_ndarray, **check_params)\u001b[0m\n\u001b[0;32m    620\u001b[0m         y \u001b[39m=\u001b[39m check_array(y, input_name\u001b[39m=\u001b[39m\u001b[39m\"\u001b[39m\u001b[39my\u001b[39m\u001b[39m\"\u001b[39m, \u001b[39m*\u001b[39m\u001b[39m*\u001b[39mcheck_y_params)\n\u001b[0;32m    621\u001b[0m     \u001b[39melse\u001b[39;00m:\n\u001b[1;32m--> 622\u001b[0m         X, y \u001b[39m=\u001b[39m check_X_y(X, y, \u001b[39m*\u001b[39m\u001b[39m*\u001b[39mcheck_params)\n\u001b[0;32m    623\u001b[0m     out \u001b[39m=\u001b[39m X, y\n\u001b[0;32m    625\u001b[0m \u001b[39mif\u001b[39;00m \u001b[39mnot\u001b[39;00m no_val_X \u001b[39mand\u001b[39;00m check_params\u001b[39m.\u001b[39mget(\u001b[39m\"\u001b[39m\u001b[39mensure_2d\u001b[39m\u001b[39m\"\u001b[39m, \u001b[39mTrue\u001b[39;00m):\n",
      "File \u001b[1;32md:\\pokemon_sleep_sp\\.venv\\lib\\site-packages\\sklearn\\utils\\validation.py:1146\u001b[0m, in \u001b[0;36mcheck_X_y\u001b[1;34m(X, y, accept_sparse, accept_large_sparse, dtype, order, copy, force_all_finite, ensure_2d, allow_nd, multi_output, ensure_min_samples, ensure_min_features, y_numeric, estimator)\u001b[0m\n\u001b[0;32m   1141\u001b[0m         estimator_name \u001b[39m=\u001b[39m _check_estimator_name(estimator)\n\u001b[0;32m   1142\u001b[0m     \u001b[39mraise\u001b[39;00m \u001b[39mValueError\u001b[39;00m(\n\u001b[0;32m   1143\u001b[0m         \u001b[39mf\u001b[39m\u001b[39m\"\u001b[39m\u001b[39m{\u001b[39;00mestimator_name\u001b[39m}\u001b[39;00m\u001b[39m requires y to be passed, but the target y is None\u001b[39m\u001b[39m\"\u001b[39m\n\u001b[0;32m   1144\u001b[0m     )\n\u001b[1;32m-> 1146\u001b[0m X \u001b[39m=\u001b[39m check_array(\n\u001b[0;32m   1147\u001b[0m     X,\n\u001b[0;32m   1148\u001b[0m     accept_sparse\u001b[39m=\u001b[39;49maccept_sparse,\n\u001b[0;32m   1149\u001b[0m     accept_large_sparse\u001b[39m=\u001b[39;49maccept_large_sparse,\n\u001b[0;32m   1150\u001b[0m     dtype\u001b[39m=\u001b[39;49mdtype,\n\u001b[0;32m   1151\u001b[0m     order\u001b[39m=\u001b[39;49morder,\n\u001b[0;32m   1152\u001b[0m     copy\u001b[39m=\u001b[39;49mcopy,\n\u001b[0;32m   1153\u001b[0m     force_all_finite\u001b[39m=\u001b[39;49mforce_all_finite,\n\u001b[0;32m   1154\u001b[0m     ensure_2d\u001b[39m=\u001b[39;49mensure_2d,\n\u001b[0;32m   1155\u001b[0m     allow_nd\u001b[39m=\u001b[39;49mallow_nd,\n\u001b[0;32m   1156\u001b[0m     ensure_min_samples\u001b[39m=\u001b[39;49mensure_min_samples,\n\u001b[0;32m   1157\u001b[0m     ensure_min_features\u001b[39m=\u001b[39;49mensure_min_features,\n\u001b[0;32m   1158\u001b[0m     estimator\u001b[39m=\u001b[39;49mestimator,\n\u001b[0;32m   1159\u001b[0m     input_name\u001b[39m=\u001b[39;49m\u001b[39m\"\u001b[39;49m\u001b[39mX\u001b[39;49m\u001b[39m\"\u001b[39;49m,\n\u001b[0;32m   1160\u001b[0m )\n\u001b[0;32m   1162\u001b[0m y \u001b[39m=\u001b[39m _check_y(y, multi_output\u001b[39m=\u001b[39mmulti_output, y_numeric\u001b[39m=\u001b[39my_numeric, estimator\u001b[39m=\u001b[39mestimator)\n\u001b[0;32m   1164\u001b[0m check_consistent_length(X, y)\n",
      "File \u001b[1;32md:\\pokemon_sleep_sp\\.venv\\lib\\site-packages\\sklearn\\utils\\validation.py:938\u001b[0m, in \u001b[0;36mcheck_array\u001b[1;34m(array, accept_sparse, accept_large_sparse, dtype, order, copy, force_all_finite, ensure_2d, allow_nd, ensure_min_samples, ensure_min_features, estimator, input_name)\u001b[0m\n\u001b[0;32m    936\u001b[0m     \u001b[39m# If input is 1D raise error\u001b[39;00m\n\u001b[0;32m    937\u001b[0m     \u001b[39mif\u001b[39;00m array\u001b[39m.\u001b[39mndim \u001b[39m==\u001b[39m \u001b[39m1\u001b[39m:\n\u001b[1;32m--> 938\u001b[0m         \u001b[39mraise\u001b[39;00m \u001b[39mValueError\u001b[39;00m(\n\u001b[0;32m    939\u001b[0m             \u001b[39m\"\u001b[39m\u001b[39mExpected 2D array, got 1D array instead:\u001b[39m\u001b[39m\\n\u001b[39;00m\u001b[39marray=\u001b[39m\u001b[39m{}\u001b[39;00m\u001b[39m.\u001b[39m\u001b[39m\\n\u001b[39;00m\u001b[39m\"\u001b[39m\n\u001b[0;32m    940\u001b[0m             \u001b[39m\"\u001b[39m\u001b[39mReshape your data either using array.reshape(-1, 1) if \u001b[39m\u001b[39m\"\u001b[39m\n\u001b[0;32m    941\u001b[0m             \u001b[39m\"\u001b[39m\u001b[39myour data has a single feature or array.reshape(1, -1) \u001b[39m\u001b[39m\"\u001b[39m\n\u001b[0;32m    942\u001b[0m             \u001b[39m\"\u001b[39m\u001b[39mif it contains a single sample.\u001b[39m\u001b[39m\"\u001b[39m\u001b[39m.\u001b[39mformat(array)\n\u001b[0;32m    943\u001b[0m         )\n\u001b[0;32m    945\u001b[0m \u001b[39mif\u001b[39;00m dtype_numeric \u001b[39mand\u001b[39;00m \u001b[39mhasattr\u001b[39m(array\u001b[39m.\u001b[39mdtype, \u001b[39m\"\u001b[39m\u001b[39mkind\u001b[39m\u001b[39m\"\u001b[39m) \u001b[39mand\u001b[39;00m array\u001b[39m.\u001b[39mdtype\u001b[39m.\u001b[39mkind \u001b[39min\u001b[39;00m \u001b[39m\"\u001b[39m\u001b[39mUSV\u001b[39m\u001b[39m\"\u001b[39m:\n\u001b[0;32m    946\u001b[0m     \u001b[39mraise\u001b[39;00m \u001b[39mValueError\u001b[39;00m(\n\u001b[0;32m    947\u001b[0m         \u001b[39m\"\u001b[39m\u001b[39mdtype=\u001b[39m\u001b[39m'\u001b[39m\u001b[39mnumeric\u001b[39m\u001b[39m'\u001b[39m\u001b[39m is not compatible with arrays of bytes/strings.\u001b[39m\u001b[39m\"\u001b[39m\n\u001b[0;32m    948\u001b[0m         \u001b[39m\"\u001b[39m\u001b[39mConvert your data to numeric values explicitly instead.\u001b[39m\u001b[39m\"\u001b[39m\n\u001b[0;32m    949\u001b[0m     )\n",
      "\u001b[1;31mValueError\u001b[0m: Expected 2D array, got 1D array instead:\narray=[388   5   1   2   4   7  11].\nReshape your data either using array.reshape(-1, 1) if your data has a single feature or array.reshape(1, -1) if it contains a single sample."
     ]
    }
   ],
   "source": [
    "linreg.fit(x,y)\n"
   ]
  },
  {
   "cell_type": "code",
   "execution_count": null,
   "metadata": {},
   "outputs": [],
   "source": [
    "y_predict=linreg.predict(a)\n",
    "plt.scatter(A,b)\n",
    "plt.plot(A,y_predict,'Red')\n",
    "plt.show()"
   ]
  },
  {
   "cell_type": "markdown",
   "metadata": {},
   "source": [
    "# 老子不引入了，我先跑函式"
   ]
  },
  {
   "cell_type": "code",
   "execution_count": 55,
   "metadata": {},
   "outputs": [],
   "source": [
    "import numpy as np\n",
    "import matplotlib.pyplot as plt\n",
    "from sklearn.linear_model import LinearRegression"
   ]
  },
  {
   "cell_type": "code",
   "execution_count": 63,
   "metadata": {},
   "outputs": [],
   "source": [
    "x=np.array([5,1,2,4,7,11])\n",
    "y=np.array([10,1,2,5,6,11])\n",
    "z=np.array([])"
   ]
  },
  {
   "cell_type": "code",
   "execution_count": 65,
   "metadata": {},
   "outputs": [
    {
     "data": {
      "text/html": [
       "<style>#sk-container-id-7 {color: black;}#sk-container-id-7 pre{padding: 0;}#sk-container-id-7 div.sk-toggleable {background-color: white;}#sk-container-id-7 label.sk-toggleable__label {cursor: pointer;display: block;width: 100%;margin-bottom: 0;padding: 0.3em;box-sizing: border-box;text-align: center;}#sk-container-id-7 label.sk-toggleable__label-arrow:before {content: \"▸\";float: left;margin-right: 0.25em;color: #696969;}#sk-container-id-7 label.sk-toggleable__label-arrow:hover:before {color: black;}#sk-container-id-7 div.sk-estimator:hover label.sk-toggleable__label-arrow:before {color: black;}#sk-container-id-7 div.sk-toggleable__content {max-height: 0;max-width: 0;overflow: hidden;text-align: left;background-color: #f0f8ff;}#sk-container-id-7 div.sk-toggleable__content pre {margin: 0.2em;color: black;border-radius: 0.25em;background-color: #f0f8ff;}#sk-container-id-7 input.sk-toggleable__control:checked~div.sk-toggleable__content {max-height: 200px;max-width: 100%;overflow: auto;}#sk-container-id-7 input.sk-toggleable__control:checked~label.sk-toggleable__label-arrow:before {content: \"▾\";}#sk-container-id-7 div.sk-estimator input.sk-toggleable__control:checked~label.sk-toggleable__label {background-color: #d4ebff;}#sk-container-id-7 div.sk-label input.sk-toggleable__control:checked~label.sk-toggleable__label {background-color: #d4ebff;}#sk-container-id-7 input.sk-hidden--visually {border: 0;clip: rect(1px 1px 1px 1px);clip: rect(1px, 1px, 1px, 1px);height: 1px;margin: -1px;overflow: hidden;padding: 0;position: absolute;width: 1px;}#sk-container-id-7 div.sk-estimator {font-family: monospace;background-color: #f0f8ff;border: 1px dotted black;border-radius: 0.25em;box-sizing: border-box;margin-bottom: 0.5em;}#sk-container-id-7 div.sk-estimator:hover {background-color: #d4ebff;}#sk-container-id-7 div.sk-parallel-item::after {content: \"\";width: 100%;border-bottom: 1px solid gray;flex-grow: 1;}#sk-container-id-7 div.sk-label:hover label.sk-toggleable__label {background-color: #d4ebff;}#sk-container-id-7 div.sk-serial::before {content: \"\";position: absolute;border-left: 1px solid gray;box-sizing: border-box;top: 0;bottom: 0;left: 50%;z-index: 0;}#sk-container-id-7 div.sk-serial {display: flex;flex-direction: column;align-items: center;background-color: white;padding-right: 0.2em;padding-left: 0.2em;position: relative;}#sk-container-id-7 div.sk-item {position: relative;z-index: 1;}#sk-container-id-7 div.sk-parallel {display: flex;align-items: stretch;justify-content: center;background-color: white;position: relative;}#sk-container-id-7 div.sk-item::before, #sk-container-id-7 div.sk-parallel-item::before {content: \"\";position: absolute;border-left: 1px solid gray;box-sizing: border-box;top: 0;bottom: 0;left: 50%;z-index: -1;}#sk-container-id-7 div.sk-parallel-item {display: flex;flex-direction: column;z-index: 1;position: relative;background-color: white;}#sk-container-id-7 div.sk-parallel-item:first-child::after {align-self: flex-end;width: 50%;}#sk-container-id-7 div.sk-parallel-item:last-child::after {align-self: flex-start;width: 50%;}#sk-container-id-7 div.sk-parallel-item:only-child::after {width: 0;}#sk-container-id-7 div.sk-dashed-wrapped {border: 1px dashed gray;margin: 0 0.4em 0.5em 0.4em;box-sizing: border-box;padding-bottom: 0.4em;background-color: white;}#sk-container-id-7 div.sk-label label {font-family: monospace;font-weight: bold;display: inline-block;line-height: 1.2em;}#sk-container-id-7 div.sk-label-container {text-align: center;}#sk-container-id-7 div.sk-container {/* jupyter's `normalize.less` sets `[hidden] { display: none; }` but bootstrap.min.css set `[hidden] { display: none !important; }` so we also need the `!important` here to be able to override the default hidden behavior on the sphinx rendered scikit-learn.org. See: https://github.com/scikit-learn/scikit-learn/issues/21755 */display: inline-block !important;position: relative;}#sk-container-id-7 div.sk-text-repr-fallback {display: none;}</style><div id=\"sk-container-id-7\" class=\"sk-top-container\"><div class=\"sk-text-repr-fallback\"><pre>LinearRegression()</pre><b>In a Jupyter environment, please rerun this cell to show the HTML representation or trust the notebook. <br />On GitHub, the HTML representation is unable to render, please try loading this page with nbviewer.org.</b></div><div class=\"sk-container\" hidden><div class=\"sk-item\"><div class=\"sk-estimator sk-toggleable\"><input class=\"sk-toggleable__control sk-hidden--visually\" id=\"sk-estimator-id-7\" type=\"checkbox\" checked><label for=\"sk-estimator-id-7\" class=\"sk-toggleable__label sk-toggleable__label-arrow\">LinearRegression</label><div class=\"sk-toggleable__content\"><pre>LinearRegression()</pre></div></div></div></div></div>"
      ],
      "text/plain": [
       "LinearRegression()"
      ]
     },
     "execution_count": 65,
     "metadata": {},
     "output_type": "execute_result"
    }
   ],
   "source": [
    "linreg=LinearRegression()\n",
    "linreg"
   ]
  },
  {
   "cell_type": "code",
   "execution_count": 58,
   "metadata": {},
   "outputs": [
    {
     "data": {
      "text/html": [
       "<style>#sk-container-id-5 {color: black;}#sk-container-id-5 pre{padding: 0;}#sk-container-id-5 div.sk-toggleable {background-color: white;}#sk-container-id-5 label.sk-toggleable__label {cursor: pointer;display: block;width: 100%;margin-bottom: 0;padding: 0.3em;box-sizing: border-box;text-align: center;}#sk-container-id-5 label.sk-toggleable__label-arrow:before {content: \"▸\";float: left;margin-right: 0.25em;color: #696969;}#sk-container-id-5 label.sk-toggleable__label-arrow:hover:before {color: black;}#sk-container-id-5 div.sk-estimator:hover label.sk-toggleable__label-arrow:before {color: black;}#sk-container-id-5 div.sk-toggleable__content {max-height: 0;max-width: 0;overflow: hidden;text-align: left;background-color: #f0f8ff;}#sk-container-id-5 div.sk-toggleable__content pre {margin: 0.2em;color: black;border-radius: 0.25em;background-color: #f0f8ff;}#sk-container-id-5 input.sk-toggleable__control:checked~div.sk-toggleable__content {max-height: 200px;max-width: 100%;overflow: auto;}#sk-container-id-5 input.sk-toggleable__control:checked~label.sk-toggleable__label-arrow:before {content: \"▾\";}#sk-container-id-5 div.sk-estimator input.sk-toggleable__control:checked~label.sk-toggleable__label {background-color: #d4ebff;}#sk-container-id-5 div.sk-label input.sk-toggleable__control:checked~label.sk-toggleable__label {background-color: #d4ebff;}#sk-container-id-5 input.sk-hidden--visually {border: 0;clip: rect(1px 1px 1px 1px);clip: rect(1px, 1px, 1px, 1px);height: 1px;margin: -1px;overflow: hidden;padding: 0;position: absolute;width: 1px;}#sk-container-id-5 div.sk-estimator {font-family: monospace;background-color: #f0f8ff;border: 1px dotted black;border-radius: 0.25em;box-sizing: border-box;margin-bottom: 0.5em;}#sk-container-id-5 div.sk-estimator:hover {background-color: #d4ebff;}#sk-container-id-5 div.sk-parallel-item::after {content: \"\";width: 100%;border-bottom: 1px solid gray;flex-grow: 1;}#sk-container-id-5 div.sk-label:hover label.sk-toggleable__label {background-color: #d4ebff;}#sk-container-id-5 div.sk-serial::before {content: \"\";position: absolute;border-left: 1px solid gray;box-sizing: border-box;top: 0;bottom: 0;left: 50%;z-index: 0;}#sk-container-id-5 div.sk-serial {display: flex;flex-direction: column;align-items: center;background-color: white;padding-right: 0.2em;padding-left: 0.2em;position: relative;}#sk-container-id-5 div.sk-item {position: relative;z-index: 1;}#sk-container-id-5 div.sk-parallel {display: flex;align-items: stretch;justify-content: center;background-color: white;position: relative;}#sk-container-id-5 div.sk-item::before, #sk-container-id-5 div.sk-parallel-item::before {content: \"\";position: absolute;border-left: 1px solid gray;box-sizing: border-box;top: 0;bottom: 0;left: 50%;z-index: -1;}#sk-container-id-5 div.sk-parallel-item {display: flex;flex-direction: column;z-index: 1;position: relative;background-color: white;}#sk-container-id-5 div.sk-parallel-item:first-child::after {align-self: flex-end;width: 50%;}#sk-container-id-5 div.sk-parallel-item:last-child::after {align-self: flex-start;width: 50%;}#sk-container-id-5 div.sk-parallel-item:only-child::after {width: 0;}#sk-container-id-5 div.sk-dashed-wrapped {border: 1px dashed gray;margin: 0 0.4em 0.5em 0.4em;box-sizing: border-box;padding-bottom: 0.4em;background-color: white;}#sk-container-id-5 div.sk-label label {font-family: monospace;font-weight: bold;display: inline-block;line-height: 1.2em;}#sk-container-id-5 div.sk-label-container {text-align: center;}#sk-container-id-5 div.sk-container {/* jupyter's `normalize.less` sets `[hidden] { display: none; }` but bootstrap.min.css set `[hidden] { display: none !important; }` so we also need the `!important` here to be able to override the default hidden behavior on the sphinx rendered scikit-learn.org. See: https://github.com/scikit-learn/scikit-learn/issues/21755 */display: inline-block !important;position: relative;}#sk-container-id-5 div.sk-text-repr-fallback {display: none;}</style><div id=\"sk-container-id-5\" class=\"sk-top-container\"><div class=\"sk-text-repr-fallback\"><pre>LinearRegression()</pre><b>In a Jupyter environment, please rerun this cell to show the HTML representation or trust the notebook. <br />On GitHub, the HTML representation is unable to render, please try loading this page with nbviewer.org.</b></div><div class=\"sk-container\" hidden><div class=\"sk-item\"><div class=\"sk-estimator sk-toggleable\"><input class=\"sk-toggleable__control sk-hidden--visually\" id=\"sk-estimator-id-5\" type=\"checkbox\" checked><label for=\"sk-estimator-id-5\" class=\"sk-toggleable__label sk-toggleable__label-arrow\">LinearRegression</label><div class=\"sk-toggleable__content\"><pre>LinearRegression()</pre></div></div></div></div></div>"
      ],
      "text/plain": [
       "LinearRegression()"
      ]
     },
     "execution_count": 58,
     "metadata": {},
     "output_type": "execute_result"
    }
   ],
   "source": []
  },
  {
   "cell_type": "code",
   "execution_count": 68,
   "metadata": {},
   "outputs": [
    {
     "data": {
      "text/plain": [
       "array([[ 5],\n",
       "       [ 1],\n",
       "       [ 2],\n",
       "       [ 4],\n",
       "       [ 7],\n",
       "       [11]])"
      ]
     },
     "execution_count": 68,
     "metadata": {},
     "output_type": "execute_result"
    }
   ],
   "source": [
    "X=x.reshape(-1,1)\n",
    "X"
   ]
  },
  {
   "cell_type": "code",
   "execution_count": 69,
   "metadata": {},
   "outputs": [
    {
     "data": {
      "text/html": [
       "<style>#sk-container-id-8 {color: black;}#sk-container-id-8 pre{padding: 0;}#sk-container-id-8 div.sk-toggleable {background-color: white;}#sk-container-id-8 label.sk-toggleable__label {cursor: pointer;display: block;width: 100%;margin-bottom: 0;padding: 0.3em;box-sizing: border-box;text-align: center;}#sk-container-id-8 label.sk-toggleable__label-arrow:before {content: \"▸\";float: left;margin-right: 0.25em;color: #696969;}#sk-container-id-8 label.sk-toggleable__label-arrow:hover:before {color: black;}#sk-container-id-8 div.sk-estimator:hover label.sk-toggleable__label-arrow:before {color: black;}#sk-container-id-8 div.sk-toggleable__content {max-height: 0;max-width: 0;overflow: hidden;text-align: left;background-color: #f0f8ff;}#sk-container-id-8 div.sk-toggleable__content pre {margin: 0.2em;color: black;border-radius: 0.25em;background-color: #f0f8ff;}#sk-container-id-8 input.sk-toggleable__control:checked~div.sk-toggleable__content {max-height: 200px;max-width: 100%;overflow: auto;}#sk-container-id-8 input.sk-toggleable__control:checked~label.sk-toggleable__label-arrow:before {content: \"▾\";}#sk-container-id-8 div.sk-estimator input.sk-toggleable__control:checked~label.sk-toggleable__label {background-color: #d4ebff;}#sk-container-id-8 div.sk-label input.sk-toggleable__control:checked~label.sk-toggleable__label {background-color: #d4ebff;}#sk-container-id-8 input.sk-hidden--visually {border: 0;clip: rect(1px 1px 1px 1px);clip: rect(1px, 1px, 1px, 1px);height: 1px;margin: -1px;overflow: hidden;padding: 0;position: absolute;width: 1px;}#sk-container-id-8 div.sk-estimator {font-family: monospace;background-color: #f0f8ff;border: 1px dotted black;border-radius: 0.25em;box-sizing: border-box;margin-bottom: 0.5em;}#sk-container-id-8 div.sk-estimator:hover {background-color: #d4ebff;}#sk-container-id-8 div.sk-parallel-item::after {content: \"\";width: 100%;border-bottom: 1px solid gray;flex-grow: 1;}#sk-container-id-8 div.sk-label:hover label.sk-toggleable__label {background-color: #d4ebff;}#sk-container-id-8 div.sk-serial::before {content: \"\";position: absolute;border-left: 1px solid gray;box-sizing: border-box;top: 0;bottom: 0;left: 50%;z-index: 0;}#sk-container-id-8 div.sk-serial {display: flex;flex-direction: column;align-items: center;background-color: white;padding-right: 0.2em;padding-left: 0.2em;position: relative;}#sk-container-id-8 div.sk-item {position: relative;z-index: 1;}#sk-container-id-8 div.sk-parallel {display: flex;align-items: stretch;justify-content: center;background-color: white;position: relative;}#sk-container-id-8 div.sk-item::before, #sk-container-id-8 div.sk-parallel-item::before {content: \"\";position: absolute;border-left: 1px solid gray;box-sizing: border-box;top: 0;bottom: 0;left: 50%;z-index: -1;}#sk-container-id-8 div.sk-parallel-item {display: flex;flex-direction: column;z-index: 1;position: relative;background-color: white;}#sk-container-id-8 div.sk-parallel-item:first-child::after {align-self: flex-end;width: 50%;}#sk-container-id-8 div.sk-parallel-item:last-child::after {align-self: flex-start;width: 50%;}#sk-container-id-8 div.sk-parallel-item:only-child::after {width: 0;}#sk-container-id-8 div.sk-dashed-wrapped {border: 1px dashed gray;margin: 0 0.4em 0.5em 0.4em;box-sizing: border-box;padding-bottom: 0.4em;background-color: white;}#sk-container-id-8 div.sk-label label {font-family: monospace;font-weight: bold;display: inline-block;line-height: 1.2em;}#sk-container-id-8 div.sk-label-container {text-align: center;}#sk-container-id-8 div.sk-container {/* jupyter's `normalize.less` sets `[hidden] { display: none; }` but bootstrap.min.css set `[hidden] { display: none !important; }` so we also need the `!important` here to be able to override the default hidden behavior on the sphinx rendered scikit-learn.org. See: https://github.com/scikit-learn/scikit-learn/issues/21755 */display: inline-block !important;position: relative;}#sk-container-id-8 div.sk-text-repr-fallback {display: none;}</style><div id=\"sk-container-id-8\" class=\"sk-top-container\"><div class=\"sk-text-repr-fallback\"><pre>LinearRegression()</pre><b>In a Jupyter environment, please rerun this cell to show the HTML representation or trust the notebook. <br />On GitHub, the HTML representation is unable to render, please try loading this page with nbviewer.org.</b></div><div class=\"sk-container\" hidden><div class=\"sk-item\"><div class=\"sk-estimator sk-toggleable\"><input class=\"sk-toggleable__control sk-hidden--visually\" id=\"sk-estimator-id-8\" type=\"checkbox\" checked><label for=\"sk-estimator-id-8\" class=\"sk-toggleable__label sk-toggleable__label-arrow\">LinearRegression</label><div class=\"sk-toggleable__content\"><pre>LinearRegression()</pre></div></div></div></div></div>"
      ],
      "text/plain": [
       "LinearRegression()"
      ]
     },
     "execution_count": 69,
     "metadata": {},
     "output_type": "execute_result"
    }
   ],
   "source": [
    "linreg.fit(X,y)"
   ]
  },
  {
   "cell_type": "code",
   "execution_count": 70,
   "metadata": {},
   "outputs": [],
   "source": [
    "y_predict=linreg.predict(X)"
   ]
  },
  {
   "cell_type": "code",
   "execution_count": 71,
   "metadata": {},
   "outputs": [
    {
     "data": {
      "image/png": "[encoded data removed]",
      "text/plain": [
       "<Figure size 640x480 with 1 Axes>"
      ]
     },
     "metadata": {},
     "output_type": "display_data"
    }
   ],
   "source": [
    "plt.scatter(X,y)\n",
    "plt.plot(X,y_predict,'Red')\n",
    "plt.show()"
   ]
  },
  {
   "cell_type": "code",
   "execution_count": null,
   "metadata": {},
   "outputs": [],
   "source": [
    "# 3D的\n",
    "import plotly.express as px\n",
    "df = px.data.iris()\n",
    "fig = px.scatter_3d(df, x='sepal_length', y='sepal_width', z='petal_width',\n",
    "              color='petal_length', size='petal_length', size_max=18,\n",
    "              symbol='species', opacity=0.7)\n",
    "\n",
    "# tight layout\n",
    "fig.update_layout(margin=dict(l=0, r=0, b=0, t=0))\n",
    "fig.show()"
   ]
  }
 ],
 "metadata": {
  "kernelspec": {
   "display_name": ".venv",
   "language": "python",
   "name": "python3"
  },
  "language_info": {
   "codemirror_mode": {
    "name": "ipython",
    "version": 3
   },
   "file_extension": ".py",
   "mimetype": "text/x-python",
   "name": "python",
   "nbconvert_exporter": "python",
   "pygments_lexer": "ipython3",
   "version": "3.10.8"
  },
  "orig_nbformat": 4
 },
 "nbformat": 4,
 "nbformat_minor": 2
}
