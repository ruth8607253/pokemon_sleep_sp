{
 "cells": [
  {
   "cell_type": "markdown",
   "metadata": {},
   "source": [
    "# ハルカ 小遙\n",
    "\n",
    "## sp計算方式 - 二代進化 L.v10~24\n",
    "\n",
    "所有參數"
   ]
  },
  {
   "cell_type": "code",
   "execution_count": 67,
   "metadata": {},
   "outputs": [],
   "source": [
    "import sqlite3\n",
    "import pandas as pd\n",
    "import datetime\n",
    "\n",
    "class SamePokemon():\n",
    "    def __init__(self):\n",
    "        self.conn = sqlite3.connect(\"../pokemon_database.db\")\n",
    "        self.cursor = self.conn.cursor()\n",
    "        self.cursor.execute('SELECT * FROM pokemon')\n",
    "        self.data = self.cursor.fetchall()\n",
    "\n",
    "    def get_data_as_dataframe(self):\n",
    "        columns = [\n",
    "            \"id\",\n",
    "            \"img_num\",\n",
    "            \"name\",\n",
    "            \"sp\",\n",
    "            \"expertise\",\n",
    "            \"level\",\n",
    "            \"help_fruit\",\n",
    "            \"help_fruit_num\",\n",
    "            \"help_ingredient_1\",\n",
    "            \"help_ingredient_num_1\",\n",
    "            \"help_ingredient_2\",\n",
    "            \"help_ingredient_num_2\",\n",
    "            \"help_ingredient_3\",\n",
    "            \"help_ingredient_num_3\",\n",
    "            \"help_time\",\n",
    "            \"help_max\",\n",
    "            \"skill_main\",\n",
    "            \"skill_main_num\",\n",
    "            \"skill_main_level\",\n",
    "            \"skill_second_1\",\n",
    "            \"skill_second_num_1\",\n",
    "            \"skill_second_2\",\n",
    "            \"skill_second_num_2\",\n",
    "            \"skill_second_3\",\n",
    "            \"skill_second_num_3\",\n",
    "            \"skill_second_4\",\n",
    "            \"skill_second_num_4\",\n",
    "            \"skill_second_5\",\n",
    "            \"skill_second_num_5\",\n",
    "            \"power_up\",\n",
    "            \"power_down\",\n",
    "            \"備註\"\n",
    "        ]\n",
    "\n",
    "        df = pd.DataFrame(self.data, columns=columns)\n",
    "        return df\n",
    "\n",
    "# 創建一個物件\n",
    "pokemon_instance = SamePokemon()\n",
    "\n",
    "# 將資料以 DataFrame 格式讀取\n",
    "pokemon_data = pokemon_instance.get_data_as_dataframe()\n",
    "\n",
    "# 取得時間字串\n",
    "time_strings = pokemon_data['help_time']\n",
    "\n",
    "def convert_to_time_format(time_str):\n",
    "    # 將時間字串轉換為時間物件\n",
    "    time_obj = datetime.datetime.strptime(time_str, '%H:%M:%S').time()\n",
    "    # 將時間物件轉換為整數，以時 * 10000 + 分 * 100 + 秒格式表示\n",
    "    return time_obj.hour * 10000 + time_obj.minute * 100 + time_obj.second\n",
    "\n",
    "# 將時間字串轉換為整數格式\n",
    "time_converted = [convert_to_time_format(time_str) for time_str in time_strings]\n",
    "\n",
    "# 更新 'help_time' 欄位\n",
    "time_indices =list(range(7, 8))+list(range(9, 11))+ list(range(19, 21))+list(range(22, 23))+list(range(31, 32))+ list(range(44, 46))+list(range(47, 48))+ list(range(91, 99))\n",
    "\n",
    "for i, idx in enumerate(time_indices):\n",
    "    pokemon_data.at[idx, 'help_time'] = time_converted[i]\n"
   ]
  },
  {
   "cell_type": "code",
   "execution_count": 68,
   "metadata": {},
   "outputs": [],
   "source": [
    "# 取y值\n",
    "y = pokemon_data.iloc[list(range(7, 8))+list(range(9, 11))+ list(range(19, 21))+list(range(22, 23))+list(range(31, 32))+ list(range(44, 46))+list(range(47, 48))+ list(range(91, 99)), 3]"
   ]
  },
  {
   "cell_type": "code",
   "execution_count": 69,
   "metadata": {},
   "outputs": [],
   "source": [
    "#取X值\n",
    "X = pokemon_data.iloc[list(range(7, 8))+list(range(9, 11))+ list(range(19, 21))+list(range(22, 23))+list(range(31, 32))+ list(range(44, 46))+list(range(47, 48))+ list(range(91, 99)), [5, 7, 9] + list(range(14, 21))+ list(range(29,31))]"
   ]
  },
  {
   "cell_type": "code",
   "execution_count": 70,
   "metadata": {},
   "outputs": [],
   "source": [
    "# 對 skill_main 進行 Label Encoding\n",
    "from sklearn.preprocessing import LabelEncoder\n",
    "\n",
    "label_encoder = LabelEncoder()\n",
    "X['skill_main_encoded'] = label_encoder.fit_transform(X['skill_main'])\n",
    "# 除去原始的 skill_main 欄位\n",
    "X = X.drop('skill_main', axis=1)\n",
    "\n",
    "label_encoder = LabelEncoder()\n",
    "X['skill_second_1_encoded'] = label_encoder.fit_transform(X['skill_second_1'])\n",
    "# 除去原始的 skill_second_1 欄位\n",
    "X = X.drop('skill_second_1', axis=1)\n",
    "\n",
    "# 繼續對其他類別型欄位做 One-Hot Encoding\n",
    "categorical_columns = ['power_up', 'power_down']\n",
    "\n",
    "for col in categorical_columns:\n",
    "    X = pd.concat([X, pd.get_dummies(X[col], prefix=col, drop_first=True)], axis=1)\n",
    "    X = X.drop(col, axis=1)"
   ]
  },
  {
   "cell_type": "markdown",
   "metadata": {},
   "source": [
    "## 把數據分割成訓練集&測試集"
   ]
  },
  {
   "cell_type": "code",
   "execution_count": 78,
   "metadata": {},
   "outputs": [],
   "source": [
    "from sklearn.model_selection import train_test_split\n",
    "\n",
    "X_train,X_test,y_train,y_test=train_test_split(X,y,test_size=0.4,random_state=2)\n",
    "# test_size=0.3 = 隨意抓取30%測試集\n",
    "# random_state 重跑訓練值幾遍"
   ]
  },
  {
   "cell_type": "code",
   "execution_count": 79,
   "metadata": {},
   "outputs": [],
   "source": [
    "from sklearn.linear_model import LinearRegression \n",
    "regressor=LinearRegression() # 初始化\n",
    "model=regressor.fit(X_train,y_train)"
   ]
  },
  {
   "cell_type": "code",
   "execution_count": 80,
   "metadata": {},
   "outputs": [],
   "source": [
    "y_predict=regressor.predict(X_test)\n",
    "\n",
    "from sklearn.metrics import r2_score # 2的平方越大(越接近1)，多元線性回歸就越好\n",
    "score1=r2_score(y_test,y_predict) # 比較訓練集&測試集之間的預測好不好"
   ]
  },
  {
   "cell_type": "code",
   "execution_count": 81,
   "metadata": {},
   "outputs": [
    {
     "data": {
      "text/plain": [
       "0.6539110301750009"
      ]
     },
     "execution_count": 81,
     "metadata": {},
     "output_type": "execute_result"
    }
   ],
   "source": [
    "score1"
   ]
  },
  {
   "cell_type": "code",
   "execution_count": 82,
   "metadata": {},
   "outputs": [
    {
     "data": {
      "text/plain": [
       "array([ 9.64118456e+00, -6.66900709e+01, -1.46905338e+01,  9.41230433e-03,\n",
       "        8.17312018e+00,  2.62544560e-03,  5.51887650e+01, -2.60057067e-01,\n",
       "       -5.67737967e+01,  2.82747046e+01,  1.31768217e+01, -3.78695619e+01,\n",
       "       -1.42440789e+01,  6.15015679e+00,  0.00000000e+00, -1.19477609e+01,\n",
       "       -1.42440789e+01,  4.22069842e+01])"
      ]
     },
     "execution_count": 82,
     "metadata": {},
     "output_type": "execute_result"
    }
   ],
   "source": [
    "model.coef_ # y=b+7.03471165e*data1+1.20332163e*data2+3.96425367e*data3+1.53936312e*data4 -4.80880533e*data5"
   ]
  },
  {
   "cell_type": "code",
   "execution_count": 83,
   "metadata": {},
   "outputs": [
    {
     "data": {
      "text/plain": [
       "476.6320011717829"
      ]
     },
     "execution_count": 83,
     "metadata": {},
     "output_type": "execute_result"
    }
   ],
   "source": [
    "model.intercept_ #b=74.48195300240218"
   ]
  },
  {
   "cell_type": "code",
   "execution_count": 84,
   "metadata": {},
   "outputs": [
    {
     "data": {
      "text/plain": [
       "0.829333152312992"
      ]
     },
     "execution_count": 84,
     "metadata": {},
     "output_type": "execute_result"
    }
   ],
   "source": [
    "model.score(X,y) # 再次評估loss值 =>跟score1比較=>數據可用"
   ]
  }
 ],
 "metadata": {
  "kernelspec": {
   "display_name": ".venv",
   "language": "python",
   "name": "python3"
  },
  "language_info": {
   "codemirror_mode": {
    "name": "ipython",
    "version": 3
   },
   "file_extension": ".py",
   "mimetype": "text/x-python",
   "name": "python",
   "nbconvert_exporter": "python",
   "pygments_lexer": "ipython3",
   "version": "3.10.8"
  },
  "orig_nbformat": 4
 },
 "nbformat": 4,
 "nbformat_minor": 2
}
