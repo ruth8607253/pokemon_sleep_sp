{
 "cells": [
  {
   "cell_type": "markdown",
   "metadata": {},
   "source": [
    "# カスミ 小霞\n",
    "\n",
    "## sp計算方式"
   ]
  },
  {
   "cell_type": "code",
   "execution_count": 1,
   "metadata": {},
   "outputs": [],
   "source": [
    "import sqlite3\n",
    "import pandas as pd\n",
    "import datetime\n",
    "\n",
    "class SamePokemon():\n",
    "    def __init__(self):\n",
    "        self.conn = sqlite3.connect(\"pokemon_database.db\")\n",
    "        self.cursor = self.conn.cursor()\n",
    "        self.cursor.execute('SELECT * FROM pokemon')\n",
    "        self.data = self.cursor.fetchall()\n",
    "\n",
    "    def get_data_as_dataframe(self):\n",
    "        columns = [\n",
    "            \"id\",\n",
    "            \"img_num\",\n",
    "            \"name\",\n",
    "            \"sp\",\n",
    "            \"expertise\",\n",
    "            \"level\",\n",
    "            \"help_fruit\",\n",
    "            \"help_fruit_num\",\n",
    "            \"help_ingredient_1\",\n",
    "            \"help_ingredient_num_1\",\n",
    "            \"help_ingredient_2\",\n",
    "            \"help_ingredient_num_2\",\n",
    "            \"help_ingredient_3\",\n",
    "            \"help_ingredient_num_3\",\n",
    "            \"help_time\",\n",
    "            \"help_max\",\n",
    "            \"skill_main\",\n",
    "            \"skill_main_num\",\n",
    "            \"skill_main_level\",\n",
    "            \"skill_second_1\",\n",
    "            \"skill_second_num_1\",\n",
    "            \"skill_second_2\",\n",
    "            \"skill_second_num_2\",\n",
    "            \"skill_second_3\",\n",
    "            \"skill_second_num_3\",\n",
    "            \"skill_second_4\",\n",
    "            \"skill_second_num_4\",\n",
    "            \"skill_second_5\",\n",
    "            \"skill_second_num_5\",\n",
    "            \"power_up\",\n",
    "            \"power_down\",\n",
    "            \"備註\"\n",
    "        ]\n",
    "\n",
    "        df = pd.DataFrame(self.data, columns=columns)\n",
    "        return df\n",
    "\n",
    "# 創建一個物件\n",
    "pokemon_instance = SamePokemon()\n",
    "\n",
    "# 將資料以 DataFrame 格式讀取\n",
    "pokemon_data = pokemon_instance.get_data_as_dataframe()\n",
    "\n",
    "# 取得時間字串\n",
    "time_strings = pokemon_data['help_time']\n",
    "\n",
    "def convert_to_time_format(time_str):\n",
    "    # 將時間字串轉換為時間物件\n",
    "    time_obj = datetime.datetime.strptime(time_str, '%H:%M:%S').time()\n",
    "    # 將時間物件轉換為整數，以時 * 10000 + 分 * 100 + 秒格式表示\n",
    "    return time_obj.hour * 10000 + time_obj.minute * 100 + time_obj.second\n",
    "\n",
    "# 將時間字串轉換為整數格式\n",
    "time_converted = [convert_to_time_format(time_str) for time_str in time_strings]\n",
    "\n",
    "# 更新 'help_time' 欄位\n",
    "time_indices =list(range(2, 5))+ list(range(34, 36))+ list(range(48, 49))+ list(range(54, 55))+ list(range(62, 64))+ list(range(75, 76))+ list(range(77, 78))\n",
    "\n",
    "for i, idx in enumerate(time_indices):\n",
    "    pokemon_data.at[idx, 'help_time'] = time_converted[i]\n"
   ]
  },
  {
   "cell_type": "code",
   "execution_count": 6,
   "metadata": {},
   "outputs": [],
   "source": [
    "# 取y值\n",
    "y = pokemon_data.iloc[list(range(2, 5))+ list(range(34, 36))+ list(range(48, 49))+ list(range(54, 55))+ list(range(62, 64))+ list(range(75, 76))+ list(range(77, 78)), 3]"
   ]
  },
  {
   "cell_type": "code",
   "execution_count": 3,
   "metadata": {},
   "outputs": [],
   "source": [
    "#取X值\n",
    "X = pokemon_data.iloc[list(range(2, 5))+ list(range(34, 36))+ list(range(48, 49))+ list(range(54, 55))+ list(range(62, 64))+ list(range(75, 76))+ list(range(77, 78)), [5, 7, 9] + list(range(14, 16))]"
   ]
  },
  {
   "cell_type": "markdown",
   "metadata": {},
   "source": [
    "## 把數據分割成訓練集&測試集"
   ]
  },
  {
   "cell_type": "code",
   "execution_count": 18,
   "metadata": {},
   "outputs": [],
   "source": [
    "from sklearn.model_selection import train_test_split\n",
    "\n",
    "X_train,X_test,y_train,y_test=train_test_split(X,y,test_size=0.6,random_state=2)\n",
    "# test_size=0.3 = 隨意抓取30%測試集\n",
    "# random_state 重跑訓練值幾遍"
   ]
  },
  {
   "cell_type": "code",
   "execution_count": 19,
   "metadata": {},
   "outputs": [],
   "source": [
    "from sklearn.linear_model import LinearRegression \n",
    "regressor=LinearRegression() # 初始化\n",
    "model=regressor.fit(X_train,y_train)"
   ]
  },
  {
   "cell_type": "code",
   "execution_count": 20,
   "metadata": {},
   "outputs": [],
   "source": [
    "y_predict=regressor.predict(X_test)\n",
    "\n",
    "from sklearn.metrics import r2_score # 2的平方越大(越接近1)，多元線性回歸就越好\n",
    "score1=r2_score(y_test,y_predict) # 比較訓練集&測試集之間的預測好不好"
   ]
  },
  {
   "cell_type": "code",
   "execution_count": 21,
   "metadata": {},
   "outputs": [
    {
     "data": {
      "text/plain": [
       "-0.3762801854614368"
      ]
     },
     "execution_count": 21,
     "metadata": {},
     "output_type": "execute_result"
    }
   ],
   "source": [
    "score1"
   ]
  },
  {
   "cell_type": "code",
   "execution_count": 22,
   "metadata": {},
   "outputs": [
    {
     "data": {
      "text/plain": [
       "array([ 4.84578969e+01,  2.16454520e+01, -1.11351196e+01,  2.55007144e-03,\n",
       "        3.21557844e+01])"
      ]
     },
     "execution_count": 22,
     "metadata": {},
     "output_type": "execute_result"
    }
   ],
   "source": [
    "model.coef_ # y=b+7.03471165e*data1+1.20332163e*data2+3.96425367e*data3+1.53936312e*data4 -4.80880533e*data5"
   ]
  },
  {
   "cell_type": "code",
   "execution_count": 23,
   "metadata": {},
   "outputs": [
    {
     "data": {
      "text/plain": [
       "-359.07275708165696"
      ]
     },
     "execution_count": 23,
     "metadata": {},
     "output_type": "execute_result"
    }
   ],
   "source": [
    "model.intercept_ #b=74.48195300240218"
   ]
  },
  {
   "cell_type": "code",
   "execution_count": 24,
   "metadata": {},
   "outputs": [
    {
     "data": {
      "text/plain": [
       "0.45464003842081624"
      ]
     },
     "execution_count": 24,
     "metadata": {},
     "output_type": "execute_result"
    }
   ],
   "source": [
    "model.score(X,y) # 再次評估loss值 =>跟score1比較=>數據可用"
   ]
  }
 ],
 "metadata": {
  "kernelspec": {
   "display_name": ".venv",
   "language": "python",
   "name": "python3"
  },
  "language_info": {
   "codemirror_mode": {
    "name": "ipython",
    "version": 3
   },
   "file_extension": ".py",
   "mimetype": "text/x-python",
   "name": "python",
   "nbconvert_exporter": "python",
   "pygments_lexer": "ipython3",
   "version": "3.10.8"
  },
  "orig_nbformat": 4
 },
 "nbformat": 4,
 "nbformat_minor": 2
}
