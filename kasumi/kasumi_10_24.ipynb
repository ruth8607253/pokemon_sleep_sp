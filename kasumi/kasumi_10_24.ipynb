{
 "cells": [
  {
   "cell_type": "markdown",
   "metadata": {},
   "source": [
    "# カスミ 小霞\n",
    "\n",
    "## sp計算方式 - 未進化前10~24等\n",
    "\n",
    "sp = 285.72058843574945 + 等級 * 1.10000000 - 蔬果 * 1.00519442 + 食材 * 3.28584961 - 時間 * 3.85951158 + 持有上限 * 1.79438175 + 主技能內容 * 1.35008948 + 主技能等級 * 0 - 副技能內容 * 8.22966794 + 主技能影響程度 * 3.28584961 - 副技能影響程度 * 6.53446117 - 能力增加:主技能 * 3.66237375 - 能力增加:速度 * 3.28584961 - 能力增加:活力 * 6.76609455 + 能力增加:無 * 0 + 能力增加:發現 * 3.67242570 + 能力減少:主技能 * 0 + 能力減少:速度 * 3.66520055 - 能力減少:活力 * 3.28584961 + 能力減少:無 * 0 + 能力減少:發現 * 0"
   ]
  },
  {
   "cell_type": "code",
   "execution_count": 2,
   "metadata": {},
   "outputs": [],
   "source": [
    "import sqlite3\n",
    "import pandas as pd\n",
    "import datetime\n",
    "\n",
    "class SamePokemon():\n",
    "    def __init__(self):\n",
    "        self.conn = sqlite3.connect(\"pokemon_database.db\")\n",
    "        self.cursor = self.conn.cursor()\n",
    "        self.cursor.execute('SELECT * FROM pokemon')\n",
    "        self.data = self.cursor.fetchall()\n",
    "\n",
    "    def get_data_as_dataframe(self):\n",
    "        columns = [\n",
    "            \"id\",\n",
    "            \"img_num\",\n",
    "            \"name\",\n",
    "            \"sp\",\n",
    "            \"expertise\",\n",
    "            \"level\",\n",
    "            \"help_fruit\",\n",
    "            \"help_fruit_num\",\n",
    "            \"help_ingredient_1\",\n",
    "            \"help_ingredient_num_1\",\n",
    "            \"help_ingredient_2\",\n",
    "            \"help_ingredient_num_2\",\n",
    "            \"help_ingredient_3\",\n",
    "            \"help_ingredient_num_3\",\n",
    "            \"help_time\",\n",
    "            \"help_max\",\n",
    "            \"skill_main\",\n",
    "            \"skill_main_num\",\n",
    "            \"skill_main_level\",\n",
    "            \"skill_second_1\",\n",
    "            \"skill_second_num_1\",\n",
    "            \"skill_second_2\",\n",
    "            \"skill_second_num_2\",\n",
    "            \"skill_second_3\",\n",
    "            \"skill_second_num_3\",\n",
    "            \"skill_second_4\",\n",
    "            \"skill_second_num_4\",\n",
    "            \"skill_second_5\",\n",
    "            \"skill_second_num_5\",\n",
    "            \"power_up\",\n",
    "            \"power_down\",\n",
    "            \"備註\"\n",
    "        ]\n",
    "\n",
    "        df = pd.DataFrame(self.data, columns=columns)\n",
    "        return df\n",
    "\n",
    "# 創建一個物件\n",
    "pokemon_instance = SamePokemon()\n",
    "\n",
    "# 將資料以 DataFrame 格式讀取\n",
    "pokemon_data = pokemon_instance.get_data_as_dataframe()\n",
    "\n",
    "# 取得時間字串\n",
    "time_strings = pokemon_data['help_time']\n",
    "\n",
    "def convert_to_time_format(time_str):\n",
    "    # 將時間字串轉換為時間物件\n",
    "    time_obj = datetime.datetime.strptime(time_str, '%H:%M:%S').time()\n",
    "    # 將時間物件轉換為整數，以時 * 10000 + 分 * 100 + 秒格式表示\n",
    "    return time_obj.hour * 10000 + time_obj.minute * 100 + time_obj.second\n",
    "\n",
    "# 將時間字串轉換為整數格式\n",
    "time_converted = [convert_to_time_format(time_str) for time_str in time_strings]\n",
    "\n",
    "# 更新 'help_time' 欄位\n",
    "time_indices =list(range(13, 14))+list(range(15, 16))+ list(range(17, 19))+ list(range(28, 30))+ list(range(33, 34))+ list(range(43, 44))+ list(range(84, 90))\n",
    "\n",
    "for i, idx in enumerate(time_indices):\n",
    "    pokemon_data.at[idx, 'help_time'] = time_converted[i]\n"
   ]
  },
  {
   "cell_type": "code",
   "execution_count": 21,
   "metadata": {},
   "outputs": [],
   "source": [
    "# 取y值\n",
    "y = pokemon_data.iloc[list(range(13, 14))+list(range(15, 16))+ list(range(17, 19))+ list(range(28, 30))+ list(range(33, 34))+ list(range(43, 44))+ list(range(84, 90)), 3]"
   ]
  },
  {
   "cell_type": "code",
   "execution_count": 3,
   "metadata": {},
   "outputs": [],
   "source": [
    "#取X值\n",
    "X = pokemon_data.iloc[list(range(13, 14))+list(range(15, 16))+ list(range(17, 19))+ list(range(28, 30))+ list(range(33, 34))+ list(range(43, 44))+ list(range(84, 90)), [5, 7, 9] + list(range(14, 21))+ list(range(29,31))]"
   ]
  },
  {
   "cell_type": "code",
   "execution_count": 23,
   "metadata": {},
   "outputs": [],
   "source": [
    "# 對 skill_main 進行 Label Encoding\n",
    "from sklearn.preprocessing import LabelEncoder\n",
    "\n",
    "label_encoder = LabelEncoder()\n",
    "X['skill_main_encoded'] = label_encoder.fit_transform(X['skill_main'])\n",
    "# 除去原始的 skill_main 欄位\n",
    "X = X.drop('skill_main', axis=1)\n",
    "\n",
    "\n",
    "label_encoder = LabelEncoder()\n",
    "X['skill_second_1_encoded'] = label_encoder.fit_transform(X['skill_second_1'])\n",
    "# 除去原始的 skill_second_1 欄位\n",
    "X = X.drop('skill_second_1', axis=1)\n",
    "\n",
    "\n",
    "# 繼續對其他類別型欄位做 One-Hot Encoding\n",
    "categorical_columns = ['power_up', 'power_down']\n",
    "\n",
    "for col in categorical_columns:\n",
    "    X = pd.concat([X, pd.get_dummies(X[col], prefix=col, drop_first=True)], axis=1)\n",
    "    X = X.drop(col, axis=1)"
   ]
  },
  {
   "cell_type": "code",
   "execution_count": 89,
   "metadata": {},
   "outputs": [
    {
     "ename": "KeyError",
     "evalue": "'skill_second_1'",
     "output_type": "error",
     "traceback": [
      "\u001b[1;31m---------------------------------------------------------------------------\u001b[0m",
      "\u001b[1;31mKeyError\u001b[0m                                  Traceback (most recent call last)",
      "File \u001b[1;32md:\\pokemon_sleep_sp\\.venv\\lib\\site-packages\\pandas\\core\\indexes\\base.py:3790\u001b[0m, in \u001b[0;36mIndex.get_loc\u001b[1;34m(self, key)\u001b[0m\n\u001b[0;32m   3789\u001b[0m \u001b[39mtry\u001b[39;00m:\n\u001b[1;32m-> 3790\u001b[0m     \u001b[39mreturn\u001b[39;00m \u001b[39mself\u001b[39;49m\u001b[39m.\u001b[39;49m_engine\u001b[39m.\u001b[39;49mget_loc(casted_key)\n\u001b[0;32m   3791\u001b[0m \u001b[39mexcept\u001b[39;00m \u001b[39mKeyError\u001b[39;00m \u001b[39mas\u001b[39;00m err:\n",
      "File \u001b[1;32mindex.pyx:152\u001b[0m, in \u001b[0;36mpandas._libs.index.IndexEngine.get_loc\u001b[1;34m()\u001b[0m\n",
      "File \u001b[1;32mindex.pyx:181\u001b[0m, in \u001b[0;36mpandas._libs.index.IndexEngine.get_loc\u001b[1;34m()\u001b[0m\n",
      "File \u001b[1;32mpandas\\_libs\\hashtable_class_helper.pxi:7080\u001b[0m, in \u001b[0;36mpandas._libs.hashtable.PyObjectHashTable.get_item\u001b[1;34m()\u001b[0m\n",
      "File \u001b[1;32mpandas\\_libs\\hashtable_class_helper.pxi:7088\u001b[0m, in \u001b[0;36mpandas._libs.hashtable.PyObjectHashTable.get_item\u001b[1;34m()\u001b[0m\n",
      "\u001b[1;31mKeyError\u001b[0m: 'skill_second_1'",
      "\nThe above exception was the direct cause of the following exception:\n",
      "\u001b[1;31mKeyError\u001b[0m                                  Traceback (most recent call last)",
      "\u001b[1;32md:\\pokemon_sleep_sp\\kasumi copy.ipynb 儲存格 6\u001b[0m line \u001b[0;36m2\n\u001b[0;32m      <a href='vscode-notebook-cell:/d%3A/pokemon_sleep_sp/kasumi%20copy.ipynb#X26sZmlsZQ%3D%3D?line=0'>1</a>\u001b[0m label_encoder \u001b[39m=\u001b[39m LabelEncoder()\n\u001b[1;32m----> <a href='vscode-notebook-cell:/d%3A/pokemon_sleep_sp/kasumi%20copy.ipynb#X26sZmlsZQ%3D%3D?line=1'>2</a>\u001b[0m X[\u001b[39m'\u001b[39m\u001b[39mskill_second_1_encoded\u001b[39m\u001b[39m'\u001b[39m] \u001b[39m=\u001b[39m label_encoder\u001b[39m.\u001b[39mfit_transform(X[\u001b[39m'\u001b[39;49m\u001b[39mskill_second_1\u001b[39;49m\u001b[39m'\u001b[39;49m])\n\u001b[0;32m      <a href='vscode-notebook-cell:/d%3A/pokemon_sleep_sp/kasumi%20copy.ipynb#X26sZmlsZQ%3D%3D?line=2'>3</a>\u001b[0m \u001b[39m# 除去原始的 skill_second_1 欄位\u001b[39;00m\n\u001b[0;32m      <a href='vscode-notebook-cell:/d%3A/pokemon_sleep_sp/kasumi%20copy.ipynb#X26sZmlsZQ%3D%3D?line=3'>4</a>\u001b[0m X \u001b[39m=\u001b[39m X\u001b[39m.\u001b[39mdrop(\u001b[39m'\u001b[39m\u001b[39mskill_second_1\u001b[39m\u001b[39m'\u001b[39m, axis\u001b[39m=\u001b[39m\u001b[39m1\u001b[39m)\n",
      "File \u001b[1;32md:\\pokemon_sleep_sp\\.venv\\lib\\site-packages\\pandas\\core\\frame.py:3893\u001b[0m, in \u001b[0;36mDataFrame.__getitem__\u001b[1;34m(self, key)\u001b[0m\n\u001b[0;32m   3891\u001b[0m \u001b[39mif\u001b[39;00m \u001b[39mself\u001b[39m\u001b[39m.\u001b[39mcolumns\u001b[39m.\u001b[39mnlevels \u001b[39m>\u001b[39m \u001b[39m1\u001b[39m:\n\u001b[0;32m   3892\u001b[0m     \u001b[39mreturn\u001b[39;00m \u001b[39mself\u001b[39m\u001b[39m.\u001b[39m_getitem_multilevel(key)\n\u001b[1;32m-> 3893\u001b[0m indexer \u001b[39m=\u001b[39m \u001b[39mself\u001b[39;49m\u001b[39m.\u001b[39;49mcolumns\u001b[39m.\u001b[39;49mget_loc(key)\n\u001b[0;32m   3894\u001b[0m \u001b[39mif\u001b[39;00m is_integer(indexer):\n\u001b[0;32m   3895\u001b[0m     indexer \u001b[39m=\u001b[39m [indexer]\n",
      "File \u001b[1;32md:\\pokemon_sleep_sp\\.venv\\lib\\site-packages\\pandas\\core\\indexes\\base.py:3797\u001b[0m, in \u001b[0;36mIndex.get_loc\u001b[1;34m(self, key)\u001b[0m\n\u001b[0;32m   3792\u001b[0m     \u001b[39mif\u001b[39;00m \u001b[39misinstance\u001b[39m(casted_key, \u001b[39mslice\u001b[39m) \u001b[39mor\u001b[39;00m (\n\u001b[0;32m   3793\u001b[0m         \u001b[39misinstance\u001b[39m(casted_key, abc\u001b[39m.\u001b[39mIterable)\n\u001b[0;32m   3794\u001b[0m         \u001b[39mand\u001b[39;00m \u001b[39many\u001b[39m(\u001b[39misinstance\u001b[39m(x, \u001b[39mslice\u001b[39m) \u001b[39mfor\u001b[39;00m x \u001b[39min\u001b[39;00m casted_key)\n\u001b[0;32m   3795\u001b[0m     ):\n\u001b[0;32m   3796\u001b[0m         \u001b[39mraise\u001b[39;00m InvalidIndexError(key)\n\u001b[1;32m-> 3797\u001b[0m     \u001b[39mraise\u001b[39;00m \u001b[39mKeyError\u001b[39;00m(key) \u001b[39mfrom\u001b[39;00m \u001b[39merr\u001b[39;00m\n\u001b[0;32m   3798\u001b[0m \u001b[39mexcept\u001b[39;00m \u001b[39mTypeError\u001b[39;00m:\n\u001b[0;32m   3799\u001b[0m     \u001b[39m# If we have a listlike key, _check_indexing_error will raise\u001b[39;00m\n\u001b[0;32m   3800\u001b[0m     \u001b[39m#  InvalidIndexError. Otherwise we fall through and re-raise\u001b[39;00m\n\u001b[0;32m   3801\u001b[0m     \u001b[39m#  the TypeError.\u001b[39;00m\n\u001b[0;32m   3802\u001b[0m     \u001b[39mself\u001b[39m\u001b[39m.\u001b[39m_check_indexing_error(key)\n",
      "\u001b[1;31mKeyError\u001b[0m: 'skill_second_1'"
     ]
    }
   ],
   "source": [
    "\n",
    "\n",
    "label_encoder = LabelEncoder()\n",
    "X['skill_second_2_encoded'] = label_encoder.fit_transform(X['skill_second_2'])\n",
    "# 除去原始的 skill_second_2 欄位\n",
    "X = X.drop('skill_second_2', axis=1)\n",
    "\n",
    "label_encoder = LabelEncoder()\n",
    "X['skill_second_3_encoded'] = label_encoder.fit_transform(X['skill_second_3'])\n",
    "# 除去原始的 skill_second_3 欄位\n",
    "X = X.drop('skill_second_3', axis=1)\n",
    "\n",
    "label_encoder = LabelEncoder()\n",
    "X['skill_second_4_encoded'] = label_encoder.fit_transform(X['skill_second_4'])\n",
    "# 除去原始的 skill_second_4 欄位\n",
    "X = X.drop('skill_second_4', axis=1)\n",
    "\n",
    "label_encoder = LabelEncoder()\n",
    "X['skill_second_5_encoded'] = label_encoder.fit_transform(X['skill_second_5'])\n",
    "# 除去原始的 skill_second_5 欄位\n",
    "X = X.drop('skill_second_5', axis=1)"
   ]
  },
  {
   "cell_type": "markdown",
   "metadata": {},
   "source": [
    "## 把數據分割成訓練集&測試集"
   ]
  },
  {
   "cell_type": "code",
   "execution_count": 55,
   "metadata": {},
   "outputs": [],
   "source": [
    "from sklearn.model_selection import train_test_split\n",
    "\n",
    "X_train,X_test,y_train,y_test=train_test_split(X,y,test_size=0.5,random_state=2)\n",
    "# test_size=0.3 = 隨意抓取30%測試集\n",
    "# random_state 重跑訓練值幾遍"
   ]
  },
  {
   "cell_type": "code",
   "execution_count": 56,
   "metadata": {},
   "outputs": [],
   "source": [
    "from sklearn.linear_model import LinearRegression \n",
    "regressor=LinearRegression() # 初始化\n",
    "model=regressor.fit(X_train,y_train)"
   ]
  },
  {
   "cell_type": "code",
   "execution_count": 57,
   "metadata": {},
   "outputs": [],
   "source": [
    "y_predict=regressor.predict(X_test)\n",
    "\n",
    "from sklearn.metrics import r2_score # 2的平方越大(越接近1)，多元線性回歸就越好\n",
    "score1=r2_score(y_test,y_predict) # 比較訓練集&測試集之間的預測好不好"
   ]
  },
  {
   "cell_type": "code",
   "execution_count": 58,
   "metadata": {},
   "outputs": [
    {
     "data": {
      "text/plain": [
       "0.4577909896234059"
      ]
     },
     "execution_count": 58,
     "metadata": {},
     "output_type": "execute_result"
    }
   ],
   "source": [
    "score1"
   ]
  },
  {
   "cell_type": "code",
   "execution_count": 59,
   "metadata": {},
   "outputs": [
    {
     "data": {
      "text/plain": [
       "array([ 1.10000000e+01, -1.00519442e-02,  3.28584961e-03, -3.85951158e-15,\n",
       "        1.79438175e-01,  1.35008948e-02,  0.00000000e+00, -8.22966794e-02,\n",
       "        3.28584961e-03, -6.53446117e-04, -3.66237375e+00, -3.28584961e-03,\n",
       "       -6.76609455e-03,  0.00000000e+00,  3.67242570e+00,  0.00000000e+00,\n",
       "        3.66520055e+00, -3.28584961e-03,  0.00000000e+00,  0.00000000e+00])"
      ]
     },
     "execution_count": 59,
     "metadata": {},
     "output_type": "execute_result"
    }
   ],
   "source": [
    "model.coef_ # y=b+7.03471165e*data1+1.20332163e*data2+3.96425367e*data3+1.53936312e*data4 -4.80880533e*data5"
   ]
  },
  {
   "cell_type": "code",
   "execution_count": 60,
   "metadata": {},
   "outputs": [
    {
     "data": {
      "text/plain": [
       "285.72058843574945"
      ]
     },
     "execution_count": 60,
     "metadata": {},
     "output_type": "execute_result"
    }
   ],
   "source": [
    "model.intercept_ #b=74.48195300240218"
   ]
  },
  {
   "cell_type": "code",
   "execution_count": 61,
   "metadata": {},
   "outputs": [
    {
     "data": {
      "text/plain": [
       "0.5829041507962376"
      ]
     },
     "execution_count": 61,
     "metadata": {},
     "output_type": "execute_result"
    }
   ],
   "source": [
    "model.score(X,y) # 再次評估loss值 =>跟score1比較=>數據可用"
   ]
  }
 ],
 "metadata": {
  "kernelspec": {
   "display_name": ".venv",
   "language": "python",
   "name": "python3"
  },
  "language_info": {
   "codemirror_mode": {
    "name": "ipython",
    "version": 3
   },
   "file_extension": ".py",
   "mimetype": "text/x-python",
   "name": "python",
   "nbconvert_exporter": "python",
   "pygments_lexer": "ipython3",
   "version": "3.10.8"
  },
  "orig_nbformat": 4
 },
 "nbformat": 4,
 "nbformat_minor": 2
}
